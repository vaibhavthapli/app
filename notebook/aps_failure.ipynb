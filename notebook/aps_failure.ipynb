{
 "cells": [
  {
   "cell_type": "markdown",
   "id": "f89044664999faac",
   "metadata": {},
   "source": [
    "# Sensor Component Faliure"
   ]
  },
  {
   "cell_type": "code",
   "execution_count": null,
   "id": "5b7aebd00b0f3bf7",
   "metadata": {},
   "outputs": [],
   "source": []
  },
  {
   "cell_type": "markdown",
   "id": "9174d31c16849885",
   "metadata": {},
   "source": [
    "## Import require Libraries"
   ]
  },
  {
   "cell_type": "code",
   "id": "71a3cc1de534857",
   "metadata": {
    "ExecuteTime": {
     "end_time": "2025-01-01T07:13:00.560321Z",
     "start_time": "2025-01-01T07:12:59.853484Z"
    }
   },
   "source": [
    "import pandas as pd\n",
    "import numpy as np\n",
    "import warnings\n",
    "warnings.filterwarnings(\"ignore\", category=FutureWarning)\n"
   ],
   "outputs": [],
   "execution_count": 1
  },
  {
   "cell_type": "code",
   "id": "b908fe72e2599ce8",
   "metadata": {
    "ExecuteTime": {
     "end_time": "2024-12-31T16:17:21.072139Z",
     "start_time": "2024-12-31T16:17:20.192423Z"
    }
   },
   "source": [
    "df= pd.read_csv('/home/vaibhav/work/app/aps_failure.csv',na_values = 'na')"
   ],
   "outputs": [],
   "execution_count": 2
  },
  {
   "cell_type": "code",
   "id": "763e014240b5bfbd",
   "metadata": {
    "ExecuteTime": {
     "end_time": "2024-12-31T16:17:21.531252Z",
     "start_time": "2024-12-31T16:17:21.510296Z"
    }
   },
   "source": [
    "full_df = df.copy()  #copy the dataset"
   ],
   "outputs": [],
   "execution_count": 3
  },
  {
   "cell_type": "code",
   "id": "7cef2024b1591c8",
   "metadata": {
    "ExecuteTime": {
     "end_time": "2024-12-31T16:17:22.530318Z",
     "start_time": "2024-12-31T16:17:22.481167Z"
    }
   },
   "source": [
    "full_df.head()"
   ],
   "outputs": [
    {
     "data": {
      "text/plain": [
       "  class  aa_000  ab_000  ac_000  ad_000  ae_000  af_000  ag_000    ag_001  \\\n",
       "0   pos  153204     0.0   182.0     NaN     0.0     0.0     0.0       0.0   \n",
       "1   pos  453236     NaN  2926.0     NaN     0.0     0.0     0.0       0.0   \n",
       "2   pos   72504     NaN  1594.0  1052.0     0.0     0.0     0.0     244.0   \n",
       "3   pos  762958     NaN     NaN     NaN     NaN     NaN   776.0  281128.0   \n",
       "4   pos  695994     NaN     NaN     NaN     NaN     NaN     0.0       0.0   \n",
       "\n",
       "      ag_002  ...     ee_002     ee_003     ee_004     ee_005     ee_006  \\\n",
       "0        0.0  ...   129862.0    26872.0    34044.0    22472.0    34362.0   \n",
       "1      222.0  ...  7908038.0  3026002.0  5025350.0  2025766.0  1160638.0   \n",
       "2   178226.0  ...  1432098.0   372252.0   527514.0   358274.0   332818.0   \n",
       "3  2186308.0  ...        NaN        NaN        NaN        NaN        NaN   \n",
       "4        0.0  ...  1397742.0   495544.0   361646.0    28610.0     5130.0   \n",
       "\n",
       "     ee_007    ee_008  ee_009  ef_000  eg_000  \n",
       "0       0.0       0.0     0.0     0.0     0.0  \n",
       "1  533834.0  493800.0  6914.0     0.0     0.0  \n",
       "2  284178.0    3742.0     0.0     0.0     0.0  \n",
       "3       NaN       NaN     NaN     NaN     NaN  \n",
       "4     212.0       0.0     0.0     NaN     NaN  \n",
       "\n",
       "[5 rows x 171 columns]"
      ],
      "text/html": [
       "<div>\n",
       "<style scoped>\n",
       "    .dataframe tbody tr th:only-of-type {\n",
       "        vertical-align: middle;\n",
       "    }\n",
       "\n",
       "    .dataframe tbody tr th {\n",
       "        vertical-align: top;\n",
       "    }\n",
       "\n",
       "    .dataframe thead th {\n",
       "        text-align: right;\n",
       "    }\n",
       "</style>\n",
       "<table border=\"1\" class=\"dataframe\">\n",
       "  <thead>\n",
       "    <tr style=\"text-align: right;\">\n",
       "      <th></th>\n",
       "      <th>class</th>\n",
       "      <th>aa_000</th>\n",
       "      <th>ab_000</th>\n",
       "      <th>ac_000</th>\n",
       "      <th>ad_000</th>\n",
       "      <th>ae_000</th>\n",
       "      <th>af_000</th>\n",
       "      <th>ag_000</th>\n",
       "      <th>ag_001</th>\n",
       "      <th>ag_002</th>\n",
       "      <th>...</th>\n",
       "      <th>ee_002</th>\n",
       "      <th>ee_003</th>\n",
       "      <th>ee_004</th>\n",
       "      <th>ee_005</th>\n",
       "      <th>ee_006</th>\n",
       "      <th>ee_007</th>\n",
       "      <th>ee_008</th>\n",
       "      <th>ee_009</th>\n",
       "      <th>ef_000</th>\n",
       "      <th>eg_000</th>\n",
       "    </tr>\n",
       "  </thead>\n",
       "  <tbody>\n",
       "    <tr>\n",
       "      <th>0</th>\n",
       "      <td>pos</td>\n",
       "      <td>153204</td>\n",
       "      <td>0.0</td>\n",
       "      <td>182.0</td>\n",
       "      <td>NaN</td>\n",
       "      <td>0.0</td>\n",
       "      <td>0.0</td>\n",
       "      <td>0.0</td>\n",
       "      <td>0.0</td>\n",
       "      <td>0.0</td>\n",
       "      <td>...</td>\n",
       "      <td>129862.0</td>\n",
       "      <td>26872.0</td>\n",
       "      <td>34044.0</td>\n",
       "      <td>22472.0</td>\n",
       "      <td>34362.0</td>\n",
       "      <td>0.0</td>\n",
       "      <td>0.0</td>\n",
       "      <td>0.0</td>\n",
       "      <td>0.0</td>\n",
       "      <td>0.0</td>\n",
       "    </tr>\n",
       "    <tr>\n",
       "      <th>1</th>\n",
       "      <td>pos</td>\n",
       "      <td>453236</td>\n",
       "      <td>NaN</td>\n",
       "      <td>2926.0</td>\n",
       "      <td>NaN</td>\n",
       "      <td>0.0</td>\n",
       "      <td>0.0</td>\n",
       "      <td>0.0</td>\n",
       "      <td>0.0</td>\n",
       "      <td>222.0</td>\n",
       "      <td>...</td>\n",
       "      <td>7908038.0</td>\n",
       "      <td>3026002.0</td>\n",
       "      <td>5025350.0</td>\n",
       "      <td>2025766.0</td>\n",
       "      <td>1160638.0</td>\n",
       "      <td>533834.0</td>\n",
       "      <td>493800.0</td>\n",
       "      <td>6914.0</td>\n",
       "      <td>0.0</td>\n",
       "      <td>0.0</td>\n",
       "    </tr>\n",
       "    <tr>\n",
       "      <th>2</th>\n",
       "      <td>pos</td>\n",
       "      <td>72504</td>\n",
       "      <td>NaN</td>\n",
       "      <td>1594.0</td>\n",
       "      <td>1052.0</td>\n",
       "      <td>0.0</td>\n",
       "      <td>0.0</td>\n",
       "      <td>0.0</td>\n",
       "      <td>244.0</td>\n",
       "      <td>178226.0</td>\n",
       "      <td>...</td>\n",
       "      <td>1432098.0</td>\n",
       "      <td>372252.0</td>\n",
       "      <td>527514.0</td>\n",
       "      <td>358274.0</td>\n",
       "      <td>332818.0</td>\n",
       "      <td>284178.0</td>\n",
       "      <td>3742.0</td>\n",
       "      <td>0.0</td>\n",
       "      <td>0.0</td>\n",
       "      <td>0.0</td>\n",
       "    </tr>\n",
       "    <tr>\n",
       "      <th>3</th>\n",
       "      <td>pos</td>\n",
       "      <td>762958</td>\n",
       "      <td>NaN</td>\n",
       "      <td>NaN</td>\n",
       "      <td>NaN</td>\n",
       "      <td>NaN</td>\n",
       "      <td>NaN</td>\n",
       "      <td>776.0</td>\n",
       "      <td>281128.0</td>\n",
       "      <td>2186308.0</td>\n",
       "      <td>...</td>\n",
       "      <td>NaN</td>\n",
       "      <td>NaN</td>\n",
       "      <td>NaN</td>\n",
       "      <td>NaN</td>\n",
       "      <td>NaN</td>\n",
       "      <td>NaN</td>\n",
       "      <td>NaN</td>\n",
       "      <td>NaN</td>\n",
       "      <td>NaN</td>\n",
       "      <td>NaN</td>\n",
       "    </tr>\n",
       "    <tr>\n",
       "      <th>4</th>\n",
       "      <td>pos</td>\n",
       "      <td>695994</td>\n",
       "      <td>NaN</td>\n",
       "      <td>NaN</td>\n",
       "      <td>NaN</td>\n",
       "      <td>NaN</td>\n",
       "      <td>NaN</td>\n",
       "      <td>0.0</td>\n",
       "      <td>0.0</td>\n",
       "      <td>0.0</td>\n",
       "      <td>...</td>\n",
       "      <td>1397742.0</td>\n",
       "      <td>495544.0</td>\n",
       "      <td>361646.0</td>\n",
       "      <td>28610.0</td>\n",
       "      <td>5130.0</td>\n",
       "      <td>212.0</td>\n",
       "      <td>0.0</td>\n",
       "      <td>0.0</td>\n",
       "      <td>NaN</td>\n",
       "      <td>NaN</td>\n",
       "    </tr>\n",
       "  </tbody>\n",
       "</table>\n",
       "<p>5 rows × 171 columns</p>\n",
       "</div>"
      ]
     },
     "execution_count": 4,
     "metadata": {},
     "output_type": "execute_result"
    }
   ],
   "execution_count": 4
  },
  {
   "cell_type": "code",
   "id": "b876ea541df28556",
   "metadata": {
    "ExecuteTime": {
     "end_time": "2024-12-31T16:17:24.228322Z",
     "start_time": "2024-12-31T16:17:24.212576Z"
    }
   },
   "source": [
    "full_df.info()"
   ],
   "outputs": [
    {
     "name": "stdout",
     "output_type": "stream",
     "text": [
      "<class 'pandas.core.frame.DataFrame'>\n",
      "RangeIndex: 36188 entries, 0 to 36187\n",
      "Columns: 171 entries, class to eg_000\n",
      "dtypes: float64(169), int64(1), object(1)\n",
      "memory usage: 47.2+ MB\n"
     ]
    }
   ],
   "execution_count": 5
  },
  {
   "cell_type": "code",
   "id": "bf50d9a240a859d4",
   "metadata": {
    "ExecuteTime": {
     "end_time": "2024-12-31T16:17:27.652999Z",
     "start_time": "2024-12-31T16:17:27.641841Z"
    }
   },
   "source": "full_df[\"class\"].value_counts()",
   "outputs": [
    {
     "data": {
      "text/plain": [
       "class\n",
       "neg    35188\n",
       "pos     1000\n",
       "Name: count, dtype: int64"
      ]
     },
     "execution_count": 6,
     "metadata": {},
     "output_type": "execute_result"
    }
   ],
   "execution_count": 6
  },
  {
   "metadata": {
    "ExecuteTime": {
     "end_time": "2024-12-31T16:17:35.519080Z",
     "start_time": "2024-12-31T16:17:35.511172Z"
    }
   },
   "cell_type": "code",
   "source": "full_df.dtypes",
   "id": "a3772cc0dfa81fc6",
   "outputs": [
    {
     "data": {
      "text/plain": [
       "class      object\n",
       "aa_000      int64\n",
       "ab_000    float64\n",
       "ac_000    float64\n",
       "ad_000    float64\n",
       "           ...   \n",
       "ee_007    float64\n",
       "ee_008    float64\n",
       "ee_009    float64\n",
       "ef_000    float64\n",
       "eg_000    float64\n",
       "Length: 171, dtype: object"
      ]
     },
     "execution_count": 7,
     "metadata": {},
     "output_type": "execute_result"
    }
   ],
   "execution_count": 7
  },
  {
   "metadata": {
    "ExecuteTime": {
     "end_time": "2024-12-31T16:17:39.858878Z",
     "start_time": "2024-12-31T16:17:39.177179Z"
    }
   },
   "cell_type": "code",
   "source": "full_df.describe()",
   "id": "27fd182f22e70ad2",
   "outputs": [
    {
     "data": {
      "text/plain": [
       "             aa_000       ab_000        ac_000        ad_000        ae_000  \\\n",
       "count  3.618800e+04  8292.000000  3.404700e+04  2.698800e+04  34601.000000   \n",
       "mean   6.591016e+04     0.711770  3.535223e+08  3.185447e+05      7.234300   \n",
       "std    1.641238e+05     3.054033  7.926486e+08  5.225398e+07    186.437282   \n",
       "min    0.000000e+00     0.000000  0.000000e+00  0.000000e+00      0.000000   \n",
       "25%    8.660000e+02     0.000000  1.600000e+01  2.400000e+01      0.000000   \n",
       "50%    3.102600e+04     0.000000  1.520000e+02  1.280000e+02      0.000000   \n",
       "75%    5.006850e+04     0.000000  9.640000e+02  4.320000e+02      0.000000   \n",
       "max    2.746564e+06   100.000000  2.130707e+09  8.584298e+09  21050.000000   \n",
       "\n",
       "             af_000        ag_000        ag_001        ag_002        ag_003  \\\n",
       "count  34601.000000  3.580900e+04  3.580900e+04  3.580900e+04  3.580900e+04   \n",
       "mean      11.606543  1.952347e+02  1.508277e+03  1.250718e+04  1.156928e+05   \n",
       "std      234.405353  1.852862e+04  4.371360e+04  1.801543e+05  8.853380e+05   \n",
       "min        0.000000  0.000000e+00  0.000000e+00  0.000000e+00  0.000000e+00   \n",
       "25%        0.000000  0.000000e+00  0.000000e+00  0.000000e+00  0.000000e+00   \n",
       "50%        0.000000  0.000000e+00  0.000000e+00  0.000000e+00  0.000000e+00   \n",
       "75%        0.000000  0.000000e+00  0.000000e+00  0.000000e+00  0.000000e+00   \n",
       "max    20070.000000  3.376892e+06  4.109372e+06  1.055286e+07  2.904730e+07   \n",
       "\n",
       "       ...        ee_002        ee_003        ee_004        ee_005  \\\n",
       "count  ...  3.580900e+04  3.580900e+04  3.580900e+04  3.580900e+04   \n",
       "mean   ...  4.853621e+05  2.293208e+05  4.837846e+05  4.401019e+05   \n",
       "std    ...  1.254188e+06  5.948054e+05  1.251106e+06  1.331837e+06   \n",
       "min    ...  0.000000e+00  0.000000e+00  0.000000e+00  0.000000e+00   \n",
       "25%    ...  2.986000e+03  1.190000e+03  2.732000e+03  3.680000e+03   \n",
       "50%    ...  2.378500e+05  1.137840e+05  2.263560e+05  1.952480e+05   \n",
       "75%    ...  4.470120e+05  2.222860e+05  4.748680e+05  4.103280e+05   \n",
       "max    ...  3.123272e+07  1.676929e+07  2.747758e+07  5.743524e+07   \n",
       "\n",
       "             ee_006        ee_007        ee_008        ee_009        ef_000  \\\n",
       "count  3.580900e+04  3.580900e+04  3.580900e+04  3.580900e+04  34458.000000   \n",
       "mean   3.686943e+05  3.718051e+05  1.485117e+05  8.897664e+03      0.083464   \n",
       "std    1.220688e+06  1.722483e+06  5.153265e+05  5.316375e+04      3.789020   \n",
       "min    0.000000e+00  0.000000e+00  0.000000e+00  0.000000e+00      0.000000   \n",
       "25%    5.660000e+02  1.180000e+02  0.000000e+00  0.000000e+00      0.000000   \n",
       "50%    9.559400e+04  4.296600e+04  4.278000e+03  0.000000e+00      0.000000   \n",
       "75%    2.791920e+05  1.706080e+05  1.432300e+05  2.018000e+03      0.000000   \n",
       "max    3.160781e+07  3.727856e+07  1.926740e+07  3.810078e+06    362.000000   \n",
       "\n",
       "             eg_000  \n",
       "count  34459.000000  \n",
       "mean       0.209234  \n",
       "std        8.613915  \n",
       "min        0.000000  \n",
       "25%        0.000000  \n",
       "50%        0.000000  \n",
       "75%        0.000000  \n",
       "max     1146.000000  \n",
       "\n",
       "[8 rows x 170 columns]"
      ],
      "text/html": [
       "<div>\n",
       "<style scoped>\n",
       "    .dataframe tbody tr th:only-of-type {\n",
       "        vertical-align: middle;\n",
       "    }\n",
       "\n",
       "    .dataframe tbody tr th {\n",
       "        vertical-align: top;\n",
       "    }\n",
       "\n",
       "    .dataframe thead th {\n",
       "        text-align: right;\n",
       "    }\n",
       "</style>\n",
       "<table border=\"1\" class=\"dataframe\">\n",
       "  <thead>\n",
       "    <tr style=\"text-align: right;\">\n",
       "      <th></th>\n",
       "      <th>aa_000</th>\n",
       "      <th>ab_000</th>\n",
       "      <th>ac_000</th>\n",
       "      <th>ad_000</th>\n",
       "      <th>ae_000</th>\n",
       "      <th>af_000</th>\n",
       "      <th>ag_000</th>\n",
       "      <th>ag_001</th>\n",
       "      <th>ag_002</th>\n",
       "      <th>ag_003</th>\n",
       "      <th>...</th>\n",
       "      <th>ee_002</th>\n",
       "      <th>ee_003</th>\n",
       "      <th>ee_004</th>\n",
       "      <th>ee_005</th>\n",
       "      <th>ee_006</th>\n",
       "      <th>ee_007</th>\n",
       "      <th>ee_008</th>\n",
       "      <th>ee_009</th>\n",
       "      <th>ef_000</th>\n",
       "      <th>eg_000</th>\n",
       "    </tr>\n",
       "  </thead>\n",
       "  <tbody>\n",
       "    <tr>\n",
       "      <th>count</th>\n",
       "      <td>3.618800e+04</td>\n",
       "      <td>8292.000000</td>\n",
       "      <td>3.404700e+04</td>\n",
       "      <td>2.698800e+04</td>\n",
       "      <td>34601.000000</td>\n",
       "      <td>34601.000000</td>\n",
       "      <td>3.580900e+04</td>\n",
       "      <td>3.580900e+04</td>\n",
       "      <td>3.580900e+04</td>\n",
       "      <td>3.580900e+04</td>\n",
       "      <td>...</td>\n",
       "      <td>3.580900e+04</td>\n",
       "      <td>3.580900e+04</td>\n",
       "      <td>3.580900e+04</td>\n",
       "      <td>3.580900e+04</td>\n",
       "      <td>3.580900e+04</td>\n",
       "      <td>3.580900e+04</td>\n",
       "      <td>3.580900e+04</td>\n",
       "      <td>3.580900e+04</td>\n",
       "      <td>34458.000000</td>\n",
       "      <td>34459.000000</td>\n",
       "    </tr>\n",
       "    <tr>\n",
       "      <th>mean</th>\n",
       "      <td>6.591016e+04</td>\n",
       "      <td>0.711770</td>\n",
       "      <td>3.535223e+08</td>\n",
       "      <td>3.185447e+05</td>\n",
       "      <td>7.234300</td>\n",
       "      <td>11.606543</td>\n",
       "      <td>1.952347e+02</td>\n",
       "      <td>1.508277e+03</td>\n",
       "      <td>1.250718e+04</td>\n",
       "      <td>1.156928e+05</td>\n",
       "      <td>...</td>\n",
       "      <td>4.853621e+05</td>\n",
       "      <td>2.293208e+05</td>\n",
       "      <td>4.837846e+05</td>\n",
       "      <td>4.401019e+05</td>\n",
       "      <td>3.686943e+05</td>\n",
       "      <td>3.718051e+05</td>\n",
       "      <td>1.485117e+05</td>\n",
       "      <td>8.897664e+03</td>\n",
       "      <td>0.083464</td>\n",
       "      <td>0.209234</td>\n",
       "    </tr>\n",
       "    <tr>\n",
       "      <th>std</th>\n",
       "      <td>1.641238e+05</td>\n",
       "      <td>3.054033</td>\n",
       "      <td>7.926486e+08</td>\n",
       "      <td>5.225398e+07</td>\n",
       "      <td>186.437282</td>\n",
       "      <td>234.405353</td>\n",
       "      <td>1.852862e+04</td>\n",
       "      <td>4.371360e+04</td>\n",
       "      <td>1.801543e+05</td>\n",
       "      <td>8.853380e+05</td>\n",
       "      <td>...</td>\n",
       "      <td>1.254188e+06</td>\n",
       "      <td>5.948054e+05</td>\n",
       "      <td>1.251106e+06</td>\n",
       "      <td>1.331837e+06</td>\n",
       "      <td>1.220688e+06</td>\n",
       "      <td>1.722483e+06</td>\n",
       "      <td>5.153265e+05</td>\n",
       "      <td>5.316375e+04</td>\n",
       "      <td>3.789020</td>\n",
       "      <td>8.613915</td>\n",
       "    </tr>\n",
       "    <tr>\n",
       "      <th>min</th>\n",
       "      <td>0.000000e+00</td>\n",
       "      <td>0.000000</td>\n",
       "      <td>0.000000e+00</td>\n",
       "      <td>0.000000e+00</td>\n",
       "      <td>0.000000</td>\n",
       "      <td>0.000000</td>\n",
       "      <td>0.000000e+00</td>\n",
       "      <td>0.000000e+00</td>\n",
       "      <td>0.000000e+00</td>\n",
       "      <td>0.000000e+00</td>\n",
       "      <td>...</td>\n",
       "      <td>0.000000e+00</td>\n",
       "      <td>0.000000e+00</td>\n",
       "      <td>0.000000e+00</td>\n",
       "      <td>0.000000e+00</td>\n",
       "      <td>0.000000e+00</td>\n",
       "      <td>0.000000e+00</td>\n",
       "      <td>0.000000e+00</td>\n",
       "      <td>0.000000e+00</td>\n",
       "      <td>0.000000</td>\n",
       "      <td>0.000000</td>\n",
       "    </tr>\n",
       "    <tr>\n",
       "      <th>25%</th>\n",
       "      <td>8.660000e+02</td>\n",
       "      <td>0.000000</td>\n",
       "      <td>1.600000e+01</td>\n",
       "      <td>2.400000e+01</td>\n",
       "      <td>0.000000</td>\n",
       "      <td>0.000000</td>\n",
       "      <td>0.000000e+00</td>\n",
       "      <td>0.000000e+00</td>\n",
       "      <td>0.000000e+00</td>\n",
       "      <td>0.000000e+00</td>\n",
       "      <td>...</td>\n",
       "      <td>2.986000e+03</td>\n",
       "      <td>1.190000e+03</td>\n",
       "      <td>2.732000e+03</td>\n",
       "      <td>3.680000e+03</td>\n",
       "      <td>5.660000e+02</td>\n",
       "      <td>1.180000e+02</td>\n",
       "      <td>0.000000e+00</td>\n",
       "      <td>0.000000e+00</td>\n",
       "      <td>0.000000</td>\n",
       "      <td>0.000000</td>\n",
       "    </tr>\n",
       "    <tr>\n",
       "      <th>50%</th>\n",
       "      <td>3.102600e+04</td>\n",
       "      <td>0.000000</td>\n",
       "      <td>1.520000e+02</td>\n",
       "      <td>1.280000e+02</td>\n",
       "      <td>0.000000</td>\n",
       "      <td>0.000000</td>\n",
       "      <td>0.000000e+00</td>\n",
       "      <td>0.000000e+00</td>\n",
       "      <td>0.000000e+00</td>\n",
       "      <td>0.000000e+00</td>\n",
       "      <td>...</td>\n",
       "      <td>2.378500e+05</td>\n",
       "      <td>1.137840e+05</td>\n",
       "      <td>2.263560e+05</td>\n",
       "      <td>1.952480e+05</td>\n",
       "      <td>9.559400e+04</td>\n",
       "      <td>4.296600e+04</td>\n",
       "      <td>4.278000e+03</td>\n",
       "      <td>0.000000e+00</td>\n",
       "      <td>0.000000</td>\n",
       "      <td>0.000000</td>\n",
       "    </tr>\n",
       "    <tr>\n",
       "      <th>75%</th>\n",
       "      <td>5.006850e+04</td>\n",
       "      <td>0.000000</td>\n",
       "      <td>9.640000e+02</td>\n",
       "      <td>4.320000e+02</td>\n",
       "      <td>0.000000</td>\n",
       "      <td>0.000000</td>\n",
       "      <td>0.000000e+00</td>\n",
       "      <td>0.000000e+00</td>\n",
       "      <td>0.000000e+00</td>\n",
       "      <td>0.000000e+00</td>\n",
       "      <td>...</td>\n",
       "      <td>4.470120e+05</td>\n",
       "      <td>2.222860e+05</td>\n",
       "      <td>4.748680e+05</td>\n",
       "      <td>4.103280e+05</td>\n",
       "      <td>2.791920e+05</td>\n",
       "      <td>1.706080e+05</td>\n",
       "      <td>1.432300e+05</td>\n",
       "      <td>2.018000e+03</td>\n",
       "      <td>0.000000</td>\n",
       "      <td>0.000000</td>\n",
       "    </tr>\n",
       "    <tr>\n",
       "      <th>max</th>\n",
       "      <td>2.746564e+06</td>\n",
       "      <td>100.000000</td>\n",
       "      <td>2.130707e+09</td>\n",
       "      <td>8.584298e+09</td>\n",
       "      <td>21050.000000</td>\n",
       "      <td>20070.000000</td>\n",
       "      <td>3.376892e+06</td>\n",
       "      <td>4.109372e+06</td>\n",
       "      <td>1.055286e+07</td>\n",
       "      <td>2.904730e+07</td>\n",
       "      <td>...</td>\n",
       "      <td>3.123272e+07</td>\n",
       "      <td>1.676929e+07</td>\n",
       "      <td>2.747758e+07</td>\n",
       "      <td>5.743524e+07</td>\n",
       "      <td>3.160781e+07</td>\n",
       "      <td>3.727856e+07</td>\n",
       "      <td>1.926740e+07</td>\n",
       "      <td>3.810078e+06</td>\n",
       "      <td>362.000000</td>\n",
       "      <td>1146.000000</td>\n",
       "    </tr>\n",
       "  </tbody>\n",
       "</table>\n",
       "<p>8 rows × 170 columns</p>\n",
       "</div>"
      ]
     },
     "execution_count": 8,
     "metadata": {},
     "output_type": "execute_result"
    }
   ],
   "execution_count": 8
  },
  {
   "metadata": {},
   "cell_type": "markdown",
   "source": "first convert Class \"pos\" , \"neg\" to 1 ,0",
   "id": "76a3497edd5d7299"
  },
  {
   "metadata": {
    "ExecuteTime": {
     "end_time": "2024-12-31T16:18:30.937748Z",
     "start_time": "2024-12-31T16:18:30.933246Z"
    }
   },
   "cell_type": "code",
   "source": "full_df['class'] = full_df['class'].replace({'pos': 1, 'neg': 0}).astype(int)",
   "id": "e0f2c6dba1eef0df",
   "outputs": [],
   "execution_count": 11
  },
  {
   "metadata": {
    "ExecuteTime": {
     "end_time": "2024-12-31T16:18:40.692915Z",
     "start_time": "2024-12-31T16:18:40.663847Z"
    }
   },
   "cell_type": "code",
   "source": "full_df.head(2)",
   "id": "51a1f05bbafb0d57",
   "outputs": [
    {
     "data": {
      "text/plain": [
       "   class  aa_000  ab_000  ac_000  ad_000  ae_000  af_000  ag_000  ag_001  \\\n",
       "0      1  153204     0.0   182.0     NaN     0.0     0.0     0.0     0.0   \n",
       "1      1  453236     NaN  2926.0     NaN     0.0     0.0     0.0     0.0   \n",
       "\n",
       "   ag_002  ...     ee_002     ee_003     ee_004     ee_005     ee_006  \\\n",
       "0     0.0  ...   129862.0    26872.0    34044.0    22472.0    34362.0   \n",
       "1   222.0  ...  7908038.0  3026002.0  5025350.0  2025766.0  1160638.0   \n",
       "\n",
       "     ee_007    ee_008  ee_009  ef_000  eg_000  \n",
       "0       0.0       0.0     0.0     0.0     0.0  \n",
       "1  533834.0  493800.0  6914.0     0.0     0.0  \n",
       "\n",
       "[2 rows x 171 columns]"
      ],
      "text/html": [
       "<div>\n",
       "<style scoped>\n",
       "    .dataframe tbody tr th:only-of-type {\n",
       "        vertical-align: middle;\n",
       "    }\n",
       "\n",
       "    .dataframe tbody tr th {\n",
       "        vertical-align: top;\n",
       "    }\n",
       "\n",
       "    .dataframe thead th {\n",
       "        text-align: right;\n",
       "    }\n",
       "</style>\n",
       "<table border=\"1\" class=\"dataframe\">\n",
       "  <thead>\n",
       "    <tr style=\"text-align: right;\">\n",
       "      <th></th>\n",
       "      <th>class</th>\n",
       "      <th>aa_000</th>\n",
       "      <th>ab_000</th>\n",
       "      <th>ac_000</th>\n",
       "      <th>ad_000</th>\n",
       "      <th>ae_000</th>\n",
       "      <th>af_000</th>\n",
       "      <th>ag_000</th>\n",
       "      <th>ag_001</th>\n",
       "      <th>ag_002</th>\n",
       "      <th>...</th>\n",
       "      <th>ee_002</th>\n",
       "      <th>ee_003</th>\n",
       "      <th>ee_004</th>\n",
       "      <th>ee_005</th>\n",
       "      <th>ee_006</th>\n",
       "      <th>ee_007</th>\n",
       "      <th>ee_008</th>\n",
       "      <th>ee_009</th>\n",
       "      <th>ef_000</th>\n",
       "      <th>eg_000</th>\n",
       "    </tr>\n",
       "  </thead>\n",
       "  <tbody>\n",
       "    <tr>\n",
       "      <th>0</th>\n",
       "      <td>1</td>\n",
       "      <td>153204</td>\n",
       "      <td>0.0</td>\n",
       "      <td>182.0</td>\n",
       "      <td>NaN</td>\n",
       "      <td>0.0</td>\n",
       "      <td>0.0</td>\n",
       "      <td>0.0</td>\n",
       "      <td>0.0</td>\n",
       "      <td>0.0</td>\n",
       "      <td>...</td>\n",
       "      <td>129862.0</td>\n",
       "      <td>26872.0</td>\n",
       "      <td>34044.0</td>\n",
       "      <td>22472.0</td>\n",
       "      <td>34362.0</td>\n",
       "      <td>0.0</td>\n",
       "      <td>0.0</td>\n",
       "      <td>0.0</td>\n",
       "      <td>0.0</td>\n",
       "      <td>0.0</td>\n",
       "    </tr>\n",
       "    <tr>\n",
       "      <th>1</th>\n",
       "      <td>1</td>\n",
       "      <td>453236</td>\n",
       "      <td>NaN</td>\n",
       "      <td>2926.0</td>\n",
       "      <td>NaN</td>\n",
       "      <td>0.0</td>\n",
       "      <td>0.0</td>\n",
       "      <td>0.0</td>\n",
       "      <td>0.0</td>\n",
       "      <td>222.0</td>\n",
       "      <td>...</td>\n",
       "      <td>7908038.0</td>\n",
       "      <td>3026002.0</td>\n",
       "      <td>5025350.0</td>\n",
       "      <td>2025766.0</td>\n",
       "      <td>1160638.0</td>\n",
       "      <td>533834.0</td>\n",
       "      <td>493800.0</td>\n",
       "      <td>6914.0</td>\n",
       "      <td>0.0</td>\n",
       "      <td>0.0</td>\n",
       "    </tr>\n",
       "  </tbody>\n",
       "</table>\n",
       "<p>2 rows × 171 columns</p>\n",
       "</div>"
      ]
     },
     "execution_count": 12,
     "metadata": {},
     "output_type": "execute_result"
    }
   ],
   "execution_count": 12
  },
  {
   "metadata": {},
   "cell_type": "markdown",
   "source": "### Train Test Split",
   "id": "f00e7b1304d77a74"
  },
  {
   "metadata": {
    "ExecuteTime": {
     "end_time": "2024-12-31T16:22:45.257582Z",
     "start_time": "2024-12-31T16:22:45.238213Z"
    }
   },
   "cell_type": "code",
   "source": [
    "X = full_df.drop(['class'], axis=1)\n",
    "y = full_df['class']"
   ],
   "id": "6f1475c09822f188",
   "outputs": [],
   "execution_count": 13
  },
  {
   "metadata": {},
   "cell_type": "markdown",
   "source": "###### train_test_split",
   "id": "326b7e7a44ab2c63"
  },
  {
   "metadata": {
    "ExecuteTime": {
     "end_time": "2024-12-31T16:25:34.578090Z",
     "start_time": "2024-12-31T16:25:33.683125Z"
    }
   },
   "cell_type": "code",
   "source": [
    "from sklearn.model_selection import train_test_split\n",
    "\n",
    "X_train, X_test, y_train, y_test = train_test_split(X, y, test_size=0.2, stratify=y, random_state=42)\n"
   ],
   "id": "f0d3b2dd3f8ee2b2",
   "outputs": [],
   "execution_count": 16
  },
  {
   "metadata": {
    "ExecuteTime": {
     "end_time": "2024-12-31T16:25:47.795953Z",
     "start_time": "2024-12-31T16:25:47.790088Z"
    }
   },
   "cell_type": "code",
   "source": "X_train.shape, X_test.shape",
   "id": "979e7cf10a08eeeb",
   "outputs": [
    {
     "data": {
      "text/plain": [
       "((28950, 170), (7238, 170))"
      ]
     },
     "execution_count": 17,
     "metadata": {},
     "output_type": "execute_result"
    }
   ],
   "execution_count": 17
  },
  {
   "metadata": {
    "ExecuteTime": {
     "end_time": "2024-12-31T16:26:08.653396Z",
     "start_time": "2024-12-31T16:26:08.644584Z"
    }
   },
   "cell_type": "code",
   "source": "y_train.value_counts(), y_test.value_counts()",
   "id": "b777388cef443fac",
   "outputs": [
    {
     "data": {
      "text/plain": [
       "(class\n",
       " 0    28150\n",
       " 1      800\n",
       " Name: count, dtype: int64,\n",
       " class\n",
       " 0    7038\n",
       " 1     200\n",
       " Name: count, dtype: int64)"
      ]
     },
     "execution_count": 18,
     "metadata": {},
     "output_type": "execute_result"
    }
   ],
   "execution_count": 18
  },
  {
   "metadata": {},
   "cell_type": "markdown",
   "source": "##### Working on train data",
   "id": "7be4ea36f990c705"
  },
  {
   "metadata": {
    "ExecuteTime": {
     "end_time": "2024-12-31T16:42:15.597417Z",
     "start_time": "2024-12-31T16:42:15.313943Z"
    }
   },
   "cell_type": "code",
   "source": [
    "#check if any duplicate value is present\n",
    "X_train.duplicated().values.any()"
   ],
   "id": "c2a51ee0f8410b45",
   "outputs": [
    {
     "data": {
      "text/plain": [
       "np.False_"
      ]
     },
     "execution_count": 28,
     "metadata": {},
     "output_type": "execute_result"
    }
   ],
   "execution_count": 28
  },
  {
   "metadata": {
    "ExecuteTime": {
     "end_time": "2024-12-31T16:42:59.309127Z",
     "start_time": "2024-12-31T16:42:59.059131Z"
    }
   },
   "cell_type": "code",
   "source": "X_train.duplicated().sum()",
   "id": "b7a0ba2a6d167621",
   "outputs": [
    {
     "data": {
      "text/plain": [
       "np.int64(0)"
      ]
     },
     "execution_count": 29,
     "metadata": {},
     "output_type": "execute_result"
    }
   ],
   "execution_count": 29
  },
  {
   "metadata": {},
   "cell_type": "code",
   "outputs": [],
   "execution_count": null,
   "source": "#Checking for Missing Value",
   "id": "a4994a1f85287d66"
  },
  {
   "metadata": {
    "ExecuteTime": {
     "end_time": "2024-12-31T17:12:46.789082Z",
     "start_time": "2024-12-31T17:12:46.771837Z"
    }
   },
   "cell_type": "code",
   "source": [
    "missing_percentage = (X_train.isnull().sum() / len(X_train)) * 100\n",
    "missing_percentage = missing_percentage[missing_percentage >= 0].sort_values(ascending=False)\n",
    "missing_percentage"
   ],
   "id": "d2642f12c786a89e",
   "outputs": [
    {
     "data": {
      "text/plain": [
       "br_000    81.557858\n",
       "bq_000    80.635579\n",
       "bp_000    78.877375\n",
       "cr_000    77.098446\n",
       "ab_000    77.098446\n",
       "            ...    \n",
       "ck_000     0.573402\n",
       "ci_000     0.573402\n",
       "cj_000     0.573402\n",
       "bt_000     0.234888\n",
       "aa_000     0.000000\n",
       "Length: 170, dtype: float64"
      ]
     },
     "execution_count": 40,
     "metadata": {},
     "output_type": "execute_result"
    }
   ],
   "execution_count": 40
  },
  {
   "metadata": {
    "ExecuteTime": {
     "end_time": "2024-12-31T17:04:44.892223Z",
     "start_time": "2024-12-31T17:04:44.870935Z"
    }
   },
   "cell_type": "code",
   "source": [
    "#seperating columns based on percentage of missing values  0 to 10%, 10 to 70%, more then 70%\n",
    "low_missing = missing_percentage[(missing_percentage > 0) & (missing_percentage <= 10)].index.tolist()\n",
    "low_missing_cols = X_train[low_missing]\n",
    "\n",
    "medium_missing = missing_percentage[(missing_percentage > 10) & (missing_percentage <= 70)].index.tolist()\n",
    "medium_missing_cols = X_train[medium_missing]\n",
    "\n",
    "high_missing = missing_percentage[missing_percentage > 70].index.tolist()\n",
    "high_missing_cols = X_train[high_missing]"
   ],
   "id": "6318bdcf725974b0",
   "outputs": [],
   "execution_count": 34
  },
  {
   "metadata": {
    "ExecuteTime": {
     "end_time": "2024-12-31T17:06:30.593405Z",
     "start_time": "2024-12-31T17:06:30.586155Z"
    }
   },
   "cell_type": "code",
   "source": "high_missing",
   "id": "e077848f3e90d7ae",
   "outputs": [
    {
     "data": {
      "text/plain": [
       "['br_000', 'bq_000', 'bp_000', 'cr_000', 'ab_000', 'bo_000', 'bn_000']"
      ]
     },
     "execution_count": 37,
     "metadata": {},
     "output_type": "execute_result"
    }
   ],
   "execution_count": 37
  },
  {
   "metadata": {},
   "cell_type": "code",
   "outputs": [],
   "execution_count": null,
   "source": "\n",
   "id": "7deab94ec7a1612f"
  },
  {
   "metadata": {},
   "cell_type": "code",
   "outputs": [],
   "execution_count": null,
   "source": "",
   "id": "dc383abe78c1e182"
  }
 ],
 "metadata": {
  "kernelspec": {
   "display_name": "fault",
   "language": "python",
   "name": "fault"
  },
  "language_info": {
   "codemirror_mode": {
    "name": "ipython",
    "version": 3
   },
   "file_extension": ".py",
   "mimetype": "text/x-python",
   "name": "python",
   "nbconvert_exporter": "python",
   "pygments_lexer": "ipython3",
   "version": "3.12.3"
  }
 },
 "nbformat": 4,
 "nbformat_minor": 5
}
