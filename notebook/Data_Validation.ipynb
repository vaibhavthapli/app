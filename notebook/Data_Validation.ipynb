{
 "cells": [
  {
   "metadata": {},
   "cell_type": "markdown",
   "source": [
    "## Data Validation:\n",
    "****Data validation is the process of checking the accuracy and quality of data before it is used, imported, or processed.****"
   ],
   "id": "b967b6181fa0ca6a"
  },
  {
   "metadata": {
    "ExecuteTime": {
     "end_time": "2025-01-02T12:23:14.836507Z",
     "start_time": "2025-01-02T12:23:14.284195Z"
    }
   },
   "cell_type": "code",
   "source": "import polars as pl\n",
   "id": "548e14c643ab7078",
   "outputs": [],
   "execution_count": 1
  },
  {
   "metadata": {
    "ExecuteTime": {
     "end_time": "2025-01-02T12:23:30.984988Z",
     "start_time": "2025-01-02T12:23:30.889702Z"
    }
   },
   "cell_type": "code",
   "source": "d = pl.read_csv(\"/home/vaibhav/work/app/aps_failure.csv\", null_values=\"na\")",
   "id": "ddeb5426be5940ef",
   "outputs": [],
   "execution_count": 3
  },
  {
   "metadata": {
    "ExecuteTime": {
     "end_time": "2025-01-02T12:23:33.974718Z",
     "start_time": "2025-01-02T12:23:33.966304Z"
    }
   },
   "cell_type": "code",
   "source": "d.shape",
   "id": "1e388ba2602a3c93",
   "outputs": [
    {
     "data": {
      "text/plain": [
       "(36188, 171)"
      ]
     },
     "execution_count": 4,
     "metadata": {},
     "output_type": "execute_result"
    }
   ],
   "execution_count": 4
  },
  {
   "metadata": {
    "ExecuteTime": {
     "end_time": "2025-01-02T12:23:35.174012Z",
     "start_time": "2025-01-02T12:23:35.137521Z"
    }
   },
   "cell_type": "code",
   "source": "d.schema",
   "id": "e3be5c04aa7d3232",
   "outputs": [
    {
     "data": {
      "text/plain": [
       "Schema([('class', String),\n",
       "        ('aa_000', Int64),\n",
       "        ('ab_000', Int64),\n",
       "        ('ac_000', Int64),\n",
       "        ('ad_000', Int64),\n",
       "        ('ae_000', Int64),\n",
       "        ('af_000', Int64),\n",
       "        ('ag_000', Int64),\n",
       "        ('ag_001', Int64),\n",
       "        ('ag_002', Int64),\n",
       "        ('ag_003', Int64),\n",
       "        ('ag_004', Int64),\n",
       "        ('ag_005', Int64),\n",
       "        ('ag_006', Int64),\n",
       "        ('ag_007', Int64),\n",
       "        ('ag_008', Int64),\n",
       "        ('ag_009', Int64),\n",
       "        ('ah_000', Int64),\n",
       "        ('ai_000', Int64),\n",
       "        ('aj_000', Int64),\n",
       "        ('ak_000', Int64),\n",
       "        ('al_000', Int64),\n",
       "        ('am_0', Int64),\n",
       "        ('an_000', Int64),\n",
       "        ('ao_000', Int64),\n",
       "        ('ap_000', Int64),\n",
       "        ('aq_000', Int64),\n",
       "        ('ar_000', Int64),\n",
       "        ('as_000', Int64),\n",
       "        ('at_000', Int64),\n",
       "        ('au_000', Int64),\n",
       "        ('av_000', Int64),\n",
       "        ('ax_000', Int64),\n",
       "        ('ay_000', Int64),\n",
       "        ('ay_001', Int64),\n",
       "        ('ay_002', Int64),\n",
       "        ('ay_003', Int64),\n",
       "        ('ay_004', Int64),\n",
       "        ('ay_005', Int64),\n",
       "        ('ay_006', Int64),\n",
       "        ('ay_007', Int64),\n",
       "        ('ay_008', Int64),\n",
       "        ('ay_009', Int64),\n",
       "        ('az_000', Int64),\n",
       "        ('az_001', Int64),\n",
       "        ('az_002', Int64),\n",
       "        ('az_003', Int64),\n",
       "        ('az_004', Int64),\n",
       "        ('az_005', Int64),\n",
       "        ('az_006', Int64),\n",
       "        ('az_007', Int64),\n",
       "        ('az_008', Int64),\n",
       "        ('az_009', Int64),\n",
       "        ('ba_000', Int64),\n",
       "        ('ba_001', Int64),\n",
       "        ('ba_002', Int64),\n",
       "        ('ba_003', Int64),\n",
       "        ('ba_004', Int64),\n",
       "        ('ba_005', Int64),\n",
       "        ('ba_006', Int64),\n",
       "        ('ba_007', Int64),\n",
       "        ('ba_008', Int64),\n",
       "        ('ba_009', Int64),\n",
       "        ('bb_000', Int64),\n",
       "        ('bc_000', Int64),\n",
       "        ('bd_000', Int64),\n",
       "        ('be_000', Int64),\n",
       "        ('bf_000', Int64),\n",
       "        ('bg_000', Int64),\n",
       "        ('bh_000', Int64),\n",
       "        ('bi_000', Int64),\n",
       "        ('bj_000', Int64),\n",
       "        ('bk_000', Int64),\n",
       "        ('bl_000', Int64),\n",
       "        ('bm_000', Int64),\n",
       "        ('bn_000', Int64),\n",
       "        ('bo_000', Int64),\n",
       "        ('bp_000', Int64),\n",
       "        ('bq_000', Int64),\n",
       "        ('br_000', Int64),\n",
       "        ('bs_000', Int64),\n",
       "        ('bt_000', Float64),\n",
       "        ('bu_000', Int64),\n",
       "        ('bv_000', Int64),\n",
       "        ('bx_000', Int64),\n",
       "        ('by_000', Int64),\n",
       "        ('bz_000', Int64),\n",
       "        ('ca_000', Int64),\n",
       "        ('cb_000', Int64),\n",
       "        ('cc_000', Int64),\n",
       "        ('cd_000', Int64),\n",
       "        ('ce_000', Int64),\n",
       "        ('cf_000', Int64),\n",
       "        ('cg_000', Int64),\n",
       "        ('ch_000', Int64),\n",
       "        ('ci_000', Float64),\n",
       "        ('cj_000', Float64),\n",
       "        ('ck_000', Float64),\n",
       "        ('cl_000', Int64),\n",
       "        ('cm_000', Int64),\n",
       "        ('cn_000', Int64),\n",
       "        ('cn_001', Int64),\n",
       "        ('cn_002', Int64),\n",
       "        ('cn_003', Int64),\n",
       "        ('cn_004', Int64),\n",
       "        ('cn_005', Int64),\n",
       "        ('cn_006', Int64),\n",
       "        ('cn_007', Int64),\n",
       "        ('cn_008', Int64),\n",
       "        ('cn_009', Int64),\n",
       "        ('co_000', Int64),\n",
       "        ('cp_000', Int64),\n",
       "        ('cq_000', Int64),\n",
       "        ('cr_000', Int64),\n",
       "        ('cs_000', Int64),\n",
       "        ('cs_001', Int64),\n",
       "        ('cs_002', Int64),\n",
       "        ('cs_003', Int64),\n",
       "        ('cs_004', Int64),\n",
       "        ('cs_005', Int64),\n",
       "        ('cs_006', Int64),\n",
       "        ('cs_007', Int64),\n",
       "        ('cs_008', Int64),\n",
       "        ('cs_009', Int64),\n",
       "        ('ct_000', Int64),\n",
       "        ('cu_000', Int64),\n",
       "        ('cv_000', Int64),\n",
       "        ('cx_000', Int64),\n",
       "        ('cy_000', Int64),\n",
       "        ('cz_000', Int64),\n",
       "        ('da_000', Int64),\n",
       "        ('db_000', Int64),\n",
       "        ('dc_000', Int64),\n",
       "        ('dd_000', Int64),\n",
       "        ('de_000', Int64),\n",
       "        ('df_000', Int64),\n",
       "        ('dg_000', Int64),\n",
       "        ('dh_000', Int64),\n",
       "        ('di_000', Int64),\n",
       "        ('dj_000', Int64),\n",
       "        ('dk_000', Int64),\n",
       "        ('dl_000', Int64),\n",
       "        ('dm_000', Int64),\n",
       "        ('dn_000', Int64),\n",
       "        ('do_000', Int64),\n",
       "        ('dp_000', Int64),\n",
       "        ('dq_000', Int64),\n",
       "        ('dr_000', Int64),\n",
       "        ('ds_000', Int64),\n",
       "        ('dt_000', Int64),\n",
       "        ('du_000', Int64),\n",
       "        ('dv_000', Int64),\n",
       "        ('dx_000', Int64),\n",
       "        ('dy_000', Int64),\n",
       "        ('dz_000', Int64),\n",
       "        ('ea_000', Int64),\n",
       "        ('eb_000', Int64),\n",
       "        ('ec_00', Float64),\n",
       "        ('ed_000', Int64),\n",
       "        ('ee_000', Int64),\n",
       "        ('ee_001', Int64),\n",
       "        ('ee_002', Int64),\n",
       "        ('ee_003', Int64),\n",
       "        ('ee_004', Int64),\n",
       "        ('ee_005', Int64),\n",
       "        ('ee_006', Int64),\n",
       "        ('ee_007', Int64),\n",
       "        ('ee_008', Int64),\n",
       "        ('ee_009', Int64),\n",
       "        ('ef_000', Int64),\n",
       "        ('eg_000', Int64)])"
      ]
     },
     "execution_count": 5,
     "metadata": {},
     "output_type": "execute_result"
    }
   ],
   "execution_count": 5
  },
  {
   "metadata": {
    "ExecuteTime": {
     "end_time": "2025-01-02T12:23:36.309312Z",
     "start_time": "2025-01-02T12:23:36.297491Z"
    }
   },
   "cell_type": "code",
   "source": "d.head()",
   "id": "1839f5c6feb097f5",
   "outputs": [
    {
     "data": {
      "text/plain": [
       "shape: (5, 171)\n",
       "┌───────┬────────┬────────┬────────┬───┬────────┬────────┬────────┬────────┐\n",
       "│ class ┆ aa_000 ┆ ab_000 ┆ ac_000 ┆ … ┆ ee_008 ┆ ee_009 ┆ ef_000 ┆ eg_000 │\n",
       "│ ---   ┆ ---    ┆ ---    ┆ ---    ┆   ┆ ---    ┆ ---    ┆ ---    ┆ ---    │\n",
       "│ str   ┆ i64    ┆ i64    ┆ i64    ┆   ┆ i64    ┆ i64    ┆ i64    ┆ i64    │\n",
       "╞═══════╪════════╪════════╪════════╪═══╪════════╪════════╪════════╪════════╡\n",
       "│ pos   ┆ 153204 ┆ 0      ┆ 182    ┆ … ┆ 0      ┆ 0      ┆ 0      ┆ 0      │\n",
       "│ pos   ┆ 453236 ┆ null   ┆ 2926   ┆ … ┆ 493800 ┆ 6914   ┆ 0      ┆ 0      │\n",
       "│ pos   ┆ 72504  ┆ null   ┆ 1594   ┆ … ┆ 3742   ┆ 0      ┆ 0      ┆ 0      │\n",
       "│ pos   ┆ 762958 ┆ null   ┆ null   ┆ … ┆ null   ┆ null   ┆ null   ┆ null   │\n",
       "│ pos   ┆ 695994 ┆ null   ┆ null   ┆ … ┆ 0      ┆ 0      ┆ null   ┆ null   │\n",
       "└───────┴────────┴────────┴────────┴───┴────────┴────────┴────────┴────────┘"
      ],
      "text/html": [
       "<div><style>\n",
       ".dataframe > thead > tr,\n",
       ".dataframe > tbody > tr {\n",
       "  text-align: right;\n",
       "  white-space: pre-wrap;\n",
       "}\n",
       "</style>\n",
       "<small>shape: (5, 171)</small><table border=\"1\" class=\"dataframe\"><thead><tr><th>class</th><th>aa_000</th><th>ab_000</th><th>ac_000</th><th>ad_000</th><th>ae_000</th><th>af_000</th><th>ag_000</th><th>ag_001</th><th>ag_002</th><th>ag_003</th><th>ag_004</th><th>ag_005</th><th>ag_006</th><th>ag_007</th><th>ag_008</th><th>ag_009</th><th>ah_000</th><th>ai_000</th><th>aj_000</th><th>ak_000</th><th>al_000</th><th>am_0</th><th>an_000</th><th>ao_000</th><th>ap_000</th><th>aq_000</th><th>ar_000</th><th>as_000</th><th>at_000</th><th>au_000</th><th>av_000</th><th>ax_000</th><th>ay_000</th><th>ay_001</th><th>ay_002</th><th>ay_003</th><th>&hellip;</th><th>de_000</th><th>df_000</th><th>dg_000</th><th>dh_000</th><th>di_000</th><th>dj_000</th><th>dk_000</th><th>dl_000</th><th>dm_000</th><th>dn_000</th><th>do_000</th><th>dp_000</th><th>dq_000</th><th>dr_000</th><th>ds_000</th><th>dt_000</th><th>du_000</th><th>dv_000</th><th>dx_000</th><th>dy_000</th><th>dz_000</th><th>ea_000</th><th>eb_000</th><th>ec_00</th><th>ed_000</th><th>ee_000</th><th>ee_001</th><th>ee_002</th><th>ee_003</th><th>ee_004</th><th>ee_005</th><th>ee_006</th><th>ee_007</th><th>ee_008</th><th>ee_009</th><th>ef_000</th><th>eg_000</th></tr><tr><td>str</td><td>i64</td><td>i64</td><td>i64</td><td>i64</td><td>i64</td><td>i64</td><td>i64</td><td>i64</td><td>i64</td><td>i64</td><td>i64</td><td>i64</td><td>i64</td><td>i64</td><td>i64</td><td>i64</td><td>i64</td><td>i64</td><td>i64</td><td>i64</td><td>i64</td><td>i64</td><td>i64</td><td>i64</td><td>i64</td><td>i64</td><td>i64</td><td>i64</td><td>i64</td><td>i64</td><td>i64</td><td>i64</td><td>i64</td><td>i64</td><td>i64</td><td>i64</td><td>&hellip;</td><td>i64</td><td>i64</td><td>i64</td><td>i64</td><td>i64</td><td>i64</td><td>i64</td><td>i64</td><td>i64</td><td>i64</td><td>i64</td><td>i64</td><td>i64</td><td>i64</td><td>i64</td><td>i64</td><td>i64</td><td>i64</td><td>i64</td><td>i64</td><td>i64</td><td>i64</td><td>i64</td><td>f64</td><td>i64</td><td>i64</td><td>i64</td><td>i64</td><td>i64</td><td>i64</td><td>i64</td><td>i64</td><td>i64</td><td>i64</td><td>i64</td><td>i64</td><td>i64</td></tr></thead><tbody><tr><td>&quot;pos&quot;</td><td>153204</td><td>0</td><td>182</td><td>null</td><td>0</td><td>0</td><td>0</td><td>0</td><td>0</td><td>11804</td><td>684444</td><td>326536</td><td>31586</td><td>0</td><td>0</td><td>0</td><td>2658638</td><td>14346</td><td>0</td><td>0</td><td>29384</td><td>46356</td><td>5566182</td><td>4426834</td><td>1571480</td><td>1120644</td><td>2</td><td>0</td><td>0</td><td>0</td><td>1368</td><td>862</td><td>0</td><td>0</td><td>0</td><td>0</td><td>&hellip;</td><td>218</td><td>0</td><td>0</td><td>55760</td><td>1433920</td><td>0</td><td>0</td><td>0</td><td>0</td><td>51558</td><td>0</td><td>0</td><td>0</td><td>0</td><td>0</td><td>0</td><td>0</td><td>0</td><td>0</td><td>0</td><td>0</td><td>0</td><td>0</td><td>1.9</td><td>166</td><td>512878</td><td>293880</td><td>129862</td><td>26872</td><td>34044</td><td>22472</td><td>34362</td><td>0</td><td>0</td><td>0</td><td>0</td><td>0</td></tr><tr><td>&quot;pos&quot;</td><td>453236</td><td>null</td><td>2926</td><td>null</td><td>0</td><td>0</td><td>0</td><td>0</td><td>222</td><td>323436</td><td>2999280</td><td>20657518</td><td>12530224</td><td>913700</td><td>12670</td><td>0</td><td>18489312</td><td>19038</td><td>0</td><td>null</td><td>117902</td><td>203782</td><td>32633282</td><td>28658284</td><td>5348896</td><td>3667892</td><td>0</td><td>0</td><td>0</td><td>0</td><td>24514</td><td>1858</td><td>2273870</td><td>2608460</td><td>1424956</td><td>1607946</td><td>&hellip;</td><td>2442</td><td>0</td><td>0</td><td>0</td><td>0</td><td>0</td><td>0</td><td>0</td><td>0</td><td>260830</td><td>169964</td><td>26740</td><td>73289586</td><td>16623244</td><td>1056682</td><td>155406</td><td>93686740</td><td>28423762</td><td>7966</td><td>382610</td><td>0</td><td>0</td><td>432739640</td><td>null</td><td>null</td><td>4079752</td><td>13176956</td><td>7908038</td><td>3026002</td><td>5025350</td><td>2025766</td><td>1160638</td><td>533834</td><td>493800</td><td>6914</td><td>0</td><td>0</td></tr><tr><td>&quot;pos&quot;</td><td>72504</td><td>null</td><td>1594</td><td>1052</td><td>0</td><td>0</td><td>0</td><td>244</td><td>178226</td><td>1249396</td><td>3813464</td><td>4876588</td><td>1202196</td><td>80186</td><td>5892</td><td>1154</td><td>null</td><td>null</td><td>null</td><td>null</td><td>null</td><td>null</td><td>null</td><td>null</td><td>null</td><td>null</td><td>0</td><td>null</td><td>null</td><td>null</td><td>6488</td><td>1414</td><td>0</td><td>0</td><td>0</td><td>0</td><td>&hellip;</td><td>4982</td><td>0</td><td>0</td><td>0</td><td>0</td><td>0</td><td>0</td><td>0</td><td>0</td><td>null</td><td>42400</td><td>7362</td><td>0</td><td>0</td><td>339296</td><td>53004</td><td>88760</td><td>10772</td><td>0</td><td>0</td><td>0</td><td>0</td><td>1550150</td><td>2365.36</td><td>2720</td><td>5935440</td><td>2161030</td><td>1432098</td><td>372252</td><td>527514</td><td>358274</td><td>332818</td><td>284178</td><td>3742</td><td>0</td><td>0</td><td>0</td></tr><tr><td>&quot;pos&quot;</td><td>762958</td><td>null</td><td>null</td><td>null</td><td>null</td><td>null</td><td>776</td><td>281128</td><td>2186308</td><td>8123016</td><td>18022646</td><td>17301098</td><td>6753568</td><td>649400</td><td>33662</td><td>0</td><td>14649948</td><td>0</td><td>0</td><td>null</td><td>5043850</td><td>7995294</td><td>30556606</td><td>30750228</td><td>11311258</td><td>4023056</td><td>null</td><td>0</td><td>0</td><td>0</td><td>null</td><td>null</td><td>null</td><td>null</td><td>null</td><td>null</td><td>&hellip;</td><td>null</td><td>null</td><td>null</td><td>null</td><td>null</td><td>null</td><td>null</td><td>null</td><td>null</td><td>382508</td><td>null</td><td>null</td><td>null</td><td>null</td><td>null</td><td>null</td><td>null</td><td>null</td><td>null</td><td>null</td><td>null</td><td>null</td><td>null</td><td>null</td><td>null</td><td>null</td><td>null</td><td>null</td><td>null</td><td>null</td><td>null</td><td>null</td><td>null</td><td>null</td><td>null</td><td>null</td><td>null</td></tr><tr><td>&quot;pos&quot;</td><td>695994</td><td>null</td><td>null</td><td>null</td><td>null</td><td>null</td><td>0</td><td>0</td><td>0</td><td>55620</td><td>1190014</td><td>2406704</td><td>2654968</td><td>190640</td><td>6104</td><td>0</td><td>30746644</td><td>154572</td><td>402</td><td>null</td><td>248428</td><td>488246</td><td>64433246</td><td>53994294</td><td>20596998</td><td>10304200</td><td>null</td><td>0</td><td>185644</td><td>0</td><td>null</td><td>null</td><td>1769754</td><td>740312</td><td>476838</td><td>174168</td><td>&hellip;</td><td>null</td><td>null</td><td>null</td><td>null</td><td>null</td><td>null</td><td>null</td><td>null</td><td>null</td><td>null</td><td>null</td><td>null</td><td>null</td><td>null</td><td>null</td><td>null</td><td>null</td><td>null</td><td>null</td><td>null</td><td>null</td><td>null</td><td>null</td><td>0.1</td><td>0</td><td>1073478</td><td>3141688</td><td>1397742</td><td>495544</td><td>361646</td><td>28610</td><td>5130</td><td>212</td><td>0</td><td>0</td><td>null</td><td>null</td></tr></tbody></table></div>"
      ]
     },
     "execution_count": 6,
     "metadata": {},
     "output_type": "execute_result"
    }
   ],
   "execution_count": 6
  },
  {
   "metadata": {
    "ExecuteTime": {
     "end_time": "2025-01-02T12:25:18.889704Z",
     "start_time": "2025-01-02T12:25:18.762601Z"
    }
   },
   "cell_type": "code",
   "source": "d.describe()",
   "id": "ccec8e1cf83e3e0a",
   "outputs": [
    {
     "data": {
      "text/plain": [
       "shape: (9, 172)\n",
       "┌────────────┬───────┬─────────────┬──────────┬───┬─────────────┬────────────┬──────────┬──────────┐\n",
       "│ statistic  ┆ class ┆ aa_000      ┆ ab_000   ┆ … ┆ ee_008      ┆ ee_009     ┆ ef_000   ┆ eg_000   │\n",
       "│ ---        ┆ ---   ┆ ---         ┆ ---      ┆   ┆ ---         ┆ ---        ┆ ---      ┆ ---      │\n",
       "│ str        ┆ str   ┆ f64         ┆ f64      ┆   ┆ f64         ┆ f64        ┆ f64      ┆ f64      │\n",
       "╞════════════╪═══════╪═════════════╪══════════╪═══╪═════════════╪════════════╪══════════╪══════════╡\n",
       "│ count      ┆ 36188 ┆ 36188.0     ┆ 8292.0   ┆ … ┆ 35809.0     ┆ 35809.0    ┆ 34458.0  ┆ 34459.0  │\n",
       "│ null_count ┆ 0     ┆ 0.0         ┆ 27896.0  ┆ … ┆ 379.0       ┆ 379.0      ┆ 1730.0   ┆ 1729.0   │\n",
       "│ mean       ┆ null  ┆ 65910.16204 ┆ 0.71177  ┆ … ┆ 148511.6795 ┆ 8897.66433 ┆ 0.083464 ┆ 0.209234 │\n",
       "│            ┆       ┆ 3           ┆          ┆   ┆ 22          ┆            ┆          ┆          │\n",
       "│ std        ┆ null  ┆ 164123.7973 ┆ 3.054033 ┆ … ┆ 515326.4839 ┆ 53163.7536 ┆ 3.78902  ┆ 8.613915 │\n",
       "│            ┆       ┆ 58          ┆          ┆   ┆ 83          ┆ 56         ┆          ┆          │\n",
       "│ min        ┆ neg   ┆ 0.0         ┆ 0.0      ┆ … ┆ 0.0         ┆ 0.0        ┆ 0.0      ┆ 0.0      │\n",
       "│ 25%        ┆ null  ┆ 866.0       ┆ 0.0      ┆ … ┆ 0.0         ┆ 0.0        ┆ 0.0      ┆ 0.0      │\n",
       "│ 50%        ┆ null  ┆ 31026.0     ┆ 0.0      ┆ … ┆ 4278.0      ┆ 0.0        ┆ 0.0      ┆ 0.0      │\n",
       "│ 75%        ┆ null  ┆ 50068.0     ┆ 0.0      ┆ … ┆ 143230.0    ┆ 2018.0     ┆ 0.0      ┆ 0.0      │\n",
       "│ max        ┆ pos   ┆ 2.746564e6  ┆ 100.0    ┆ … ┆ 1.9267396e7 ┆ 3.810078e6 ┆ 362.0    ┆ 1146.0   │\n",
       "└────────────┴───────┴─────────────┴──────────┴───┴─────────────┴────────────┴──────────┴──────────┘"
      ],
      "text/html": [
       "<div><style>\n",
       ".dataframe > thead > tr,\n",
       ".dataframe > tbody > tr {\n",
       "  text-align: right;\n",
       "  white-space: pre-wrap;\n",
       "}\n",
       "</style>\n",
       "<small>shape: (9, 172)</small><table border=\"1\" class=\"dataframe\"><thead><tr><th>statistic</th><th>class</th><th>aa_000</th><th>ab_000</th><th>ac_000</th><th>ad_000</th><th>ae_000</th><th>af_000</th><th>ag_000</th><th>ag_001</th><th>ag_002</th><th>ag_003</th><th>ag_004</th><th>ag_005</th><th>ag_006</th><th>ag_007</th><th>ag_008</th><th>ag_009</th><th>ah_000</th><th>ai_000</th><th>aj_000</th><th>ak_000</th><th>al_000</th><th>am_0</th><th>an_000</th><th>ao_000</th><th>ap_000</th><th>aq_000</th><th>ar_000</th><th>as_000</th><th>at_000</th><th>au_000</th><th>av_000</th><th>ax_000</th><th>ay_000</th><th>ay_001</th><th>ay_002</th><th>&hellip;</th><th>de_000</th><th>df_000</th><th>dg_000</th><th>dh_000</th><th>di_000</th><th>dj_000</th><th>dk_000</th><th>dl_000</th><th>dm_000</th><th>dn_000</th><th>do_000</th><th>dp_000</th><th>dq_000</th><th>dr_000</th><th>ds_000</th><th>dt_000</th><th>du_000</th><th>dv_000</th><th>dx_000</th><th>dy_000</th><th>dz_000</th><th>ea_000</th><th>eb_000</th><th>ec_00</th><th>ed_000</th><th>ee_000</th><th>ee_001</th><th>ee_002</th><th>ee_003</th><th>ee_004</th><th>ee_005</th><th>ee_006</th><th>ee_007</th><th>ee_008</th><th>ee_009</th><th>ef_000</th><th>eg_000</th></tr><tr><td>str</td><td>str</td><td>f64</td><td>f64</td><td>f64</td><td>f64</td><td>f64</td><td>f64</td><td>f64</td><td>f64</td><td>f64</td><td>f64</td><td>f64</td><td>f64</td><td>f64</td><td>f64</td><td>f64</td><td>f64</td><td>f64</td><td>f64</td><td>f64</td><td>f64</td><td>f64</td><td>f64</td><td>f64</td><td>f64</td><td>f64</td><td>f64</td><td>f64</td><td>f64</td><td>f64</td><td>f64</td><td>f64</td><td>f64</td><td>f64</td><td>f64</td><td>f64</td><td>&hellip;</td><td>f64</td><td>f64</td><td>f64</td><td>f64</td><td>f64</td><td>f64</td><td>f64</td><td>f64</td><td>f64</td><td>f64</td><td>f64</td><td>f64</td><td>f64</td><td>f64</td><td>f64</td><td>f64</td><td>f64</td><td>f64</td><td>f64</td><td>f64</td><td>f64</td><td>f64</td><td>f64</td><td>f64</td><td>f64</td><td>f64</td><td>f64</td><td>f64</td><td>f64</td><td>f64</td><td>f64</td><td>f64</td><td>f64</td><td>f64</td><td>f64</td><td>f64</td><td>f64</td></tr></thead><tbody><tr><td>&quot;count&quot;</td><td>&quot;36188&quot;</td><td>36188.0</td><td>8292.0</td><td>34047.0</td><td>26988.0</td><td>34601.0</td><td>34601.0</td><td>35809.0</td><td>35809.0</td><td>35809.0</td><td>35809.0</td><td>35809.0</td><td>35809.0</td><td>35809.0</td><td>35809.0</td><td>35809.0</td><td>35809.0</td><td>35806.0</td><td>35813.0</td><td>35813.0</td><td>33405.0</td><td>35806.0</td><td>35813.0</td><td>35806.0</td><td>35843.0</td><td>35806.0</td><td>35843.0</td><td>34459.0</td><td>35813.0</td><td>35813.0</td><td>35813.0</td><td>34600.0</td><td>34599.0</td><td>35809.0</td><td>35809.0</td><td>35809.0</td><td>&hellip;</td><td>34458.0</td><td>33643.0</td><td>33643.0</td><td>33643.0</td><td>33645.0</td><td>33644.0</td><td>33644.0</td><td>33643.0</td><td>33642.0</td><td>35785.0</td><td>34458.0</td><td>34456.0</td><td>34456.0</td><td>34457.0</td><td>34456.0</td><td>34456.0</td><td>34457.0</td><td>34457.0</td><td>34459.0</td><td>34458.0</td><td>34459.0</td><td>34459.0</td><td>33644.0</td><td>29979.0</td><td>30423.0</td><td>35809.0</td><td>35809.0</td><td>35809.0</td><td>35809.0</td><td>35809.0</td><td>35809.0</td><td>35809.0</td><td>35809.0</td><td>35809.0</td><td>35809.0</td><td>34458.0</td><td>34459.0</td></tr><tr><td>&quot;null_count&quot;</td><td>&quot;0&quot;</td><td>0.0</td><td>27896.0</td><td>2141.0</td><td>9200.0</td><td>1587.0</td><td>1587.0</td><td>379.0</td><td>379.0</td><td>379.0</td><td>379.0</td><td>379.0</td><td>379.0</td><td>379.0</td><td>379.0</td><td>379.0</td><td>379.0</td><td>382.0</td><td>375.0</td><td>375.0</td><td>2783.0</td><td>382.0</td><td>375.0</td><td>382.0</td><td>345.0</td><td>382.0</td><td>345.0</td><td>1729.0</td><td>375.0</td><td>375.0</td><td>375.0</td><td>1588.0</td><td>1589.0</td><td>379.0</td><td>379.0</td><td>379.0</td><td>&hellip;</td><td>1730.0</td><td>2545.0</td><td>2545.0</td><td>2545.0</td><td>2543.0</td><td>2544.0</td><td>2544.0</td><td>2545.0</td><td>2546.0</td><td>403.0</td><td>1730.0</td><td>1732.0</td><td>1732.0</td><td>1731.0</td><td>1732.0</td><td>1732.0</td><td>1731.0</td><td>1731.0</td><td>1729.0</td><td>1730.0</td><td>1729.0</td><td>1729.0</td><td>2544.0</td><td>6209.0</td><td>5765.0</td><td>379.0</td><td>379.0</td><td>379.0</td><td>379.0</td><td>379.0</td><td>379.0</td><td>379.0</td><td>379.0</td><td>379.0</td><td>379.0</td><td>1730.0</td><td>1729.0</td></tr><tr><td>&quot;mean&quot;</td><td>null</td><td>65910.162043</td><td>0.71177</td><td>3.5352e8</td><td>318544.695346</td><td>7.2343</td><td>11.606543</td><td>195.234718</td><td>1508.27736</td><td>12507.178084</td><td>115692.8418</td><td>506825.31291</td><td>1.2259e6</td><td>1.7767e6</td><td>526796.873188</td><td>37170.012399</td><td>5667.553743</td><td>1.9930e6</td><td>11078.872309</td><td>1281.96733</td><td>837.052777</td><td>76918.683796</td><td>121825.709323</td><td>3.8011e6</td><td>3.2986e6</td><td>1.1406e6</td><td>499009.529894</td><td>0.549639</td><td>155.033759</td><td>6328.424929</td><td>342.491944</td><td>1188.784335</td><td>380.100812</td><td>19258.381245</td><td>16290.512218</td><td>17301.469575</td><td>&hellip;</td><td>402.593534</td><td>3929.552359</td><td>8182.665042</td><td>5912.446274</td><td>43226.497251</td><td>15.61586</td><td>1907.645702</td><td>24419.36926</td><td>6712.002081</td><td>37822.368646</td><td>29942.776307</td><td>7242.748026</td><td>5.3416e6</td><td>216946.78968</td><td>95458.988797</td><td>16327.626886</td><td>4.2094e6</td><td>632244.21743</td><td>835354.367335</td><td>8212.903245</td><td>0.268319</td><td>1.672422</td><td>1.0417e7</td><td>1446.983732</td><td>1561.76143</td><td>816758.568069</td><td>854278.307018</td><td>485362.141305</td><td>229320.83627</td><td>483784.565835</td><td>440101.877629</td><td>368694.31668</td><td>371805.139323</td><td>148511.679522</td><td>8897.66433</td><td>0.083464</td><td>0.209234</td></tr><tr><td>&quot;std&quot;</td><td>null</td><td>164123.797358</td><td>3.054033</td><td>7.9265e8</td><td>5.2254e7</td><td>186.437282</td><td>234.405353</td><td>18528.624839</td><td>43713.597004</td><td>180154.27868</td><td>885338.046065</td><td>2.4721e6</td><td>3.5555e6</td><td>4.3403e6</td><td>1.4935e6</td><td>221361.557637</td><td>167719.745361</td><td>4.6682e6</td><td>189156.394417</td><td>54390.799012</td><td>63757.62419</td><td>652846.270086</td><td>1.0291e6</td><td>8.7104e6</td><td>7.6306e6</td><td>3.5138e6</td><td>1.4441e6</td><td>5.974518</td><td>11117.016276</td><td>148559.744042</td><td>19810.562177</td><td>7378.122198</td><td>1538.770619</td><td>582139.980617</td><td>687952.605093</td><td>548155.479634</td><td>&hellip;</td><td>1981.198251</td><td>172476.552211</td><td>259515.179623</td><td>701156.582127</td><td>497589.574294</td><td>1252.418154</td><td>69259.689841</td><td>986947.725198</td><td>244509.716841</td><td>109011.483952</td><td>68304.69797</td><td>15263.647992</td><td>1.0471e8</td><td>1.4233e6</td><td>228865.399617</td><td>37171.36378</td><td>1.2243e7</td><td>2.3605e6</td><td>4.4170e6</td><td>60001.453575</td><td>13.030095</td><td>45.123075</td><td>4.6604e7</td><td>3892.48455</td><td>3914.241734</td><td>2.6796e6</td><td>2.7098e6</td><td>1.2542e6</td><td>594805.404164</td><td>1.2511e6</td><td>1.3318e6</td><td>1.2207e6</td><td>1.7225e6</td><td>515326.483983</td><td>53163.753656</td><td>3.78902</td><td>8.613915</td></tr><tr><td>&quot;min&quot;</td><td>&quot;neg&quot;</td><td>0.0</td><td>0.0</td><td>0.0</td><td>0.0</td><td>0.0</td><td>0.0</td><td>0.0</td><td>0.0</td><td>0.0</td><td>0.0</td><td>0.0</td><td>0.0</td><td>0.0</td><td>0.0</td><td>0.0</td><td>0.0</td><td>0.0</td><td>0.0</td><td>0.0</td><td>0.0</td><td>0.0</td><td>0.0</td><td>0.0</td><td>0.0</td><td>0.0</td><td>0.0</td><td>0.0</td><td>0.0</td><td>0.0</td><td>0.0</td><td>0.0</td><td>0.0</td><td>0.0</td><td>0.0</td><td>0.0</td><td>&hellip;</td><td>0.0</td><td>0.0</td><td>0.0</td><td>0.0</td><td>0.0</td><td>0.0</td><td>0.0</td><td>0.0</td><td>0.0</td><td>0.0</td><td>0.0</td><td>0.0</td><td>0.0</td><td>0.0</td><td>0.0</td><td>0.0</td><td>0.0</td><td>0.0</td><td>0.0</td><td>0.0</td><td>0.0</td><td>0.0</td><td>0.0</td><td>0.0</td><td>0.0</td><td>0.0</td><td>0.0</td><td>0.0</td><td>0.0</td><td>0.0</td><td>0.0</td><td>0.0</td><td>0.0</td><td>0.0</td><td>0.0</td><td>0.0</td><td>0.0</td></tr><tr><td>&quot;25%&quot;</td><td>null</td><td>866.0</td><td>0.0</td><td>16.0</td><td>24.0</td><td>0.0</td><td>0.0</td><td>0.0</td><td>0.0</td><td>0.0</td><td>0.0</td><td>318.0</td><td>14250.0</td><td>11054.0</td><td>0.0</td><td>0.0</td><td>0.0</td><td>30190.0</td><td>0.0</td><td>0.0</td><td>0.0</td><td>0.0</td><td>0.0</td><td>74628.0</td><td>66480.0</td><td>25868.0</td><td>4210.0</td><td>0.0</td><td>0.0</td><td>0.0</td><td>0.0</td><td>10.0</td><td>10.0</td><td>0.0</td><td>0.0</td><td>0.0</td><td>&hellip;</td><td>66.0</td><td>0.0</td><td>0.0</td><td>0.0</td><td>0.0</td><td>0.0</td><td>0.0</td><td>0.0</td><td>0.0</td><td>670.0</td><td>20.0</td><td>6.0</td><td>0.0</td><td>0.0</td><td>680.0</td><td>148.0</td><td>5400.0</td><td>748.0</td><td>0.0</td><td>0.0</td><td>0.0</td><td>0.0</td><td>0.0</td><td>116.4</td><td>98.0</td><td>16174.0</td><td>8628.0</td><td>2986.0</td><td>1190.0</td><td>2732.0</td><td>3680.0</td><td>566.0</td><td>118.0</td><td>0.0</td><td>0.0</td><td>0.0</td><td>0.0</td></tr><tr><td>&quot;50%&quot;</td><td>null</td><td>31026.0</td><td>0.0</td><td>152.0</td><td>128.0</td><td>0.0</td><td>0.0</td><td>0.0</td><td>0.0</td><td>0.0</td><td>0.0</td><td>3798.0</td><td>181342.0</td><td>958350.0</td><td>126382.0</td><td>2004.0</td><td>0.0</td><td>1.013312e6</td><td>0.0</td><td>0.0</td><td>0.0</td><td>0.0</td><td>0.0</td><td>1.944294e6</td><td>1.664598e6</td><td>362044.0</td><td>180990.0</td><td>0.0</td><td>0.0</td><td>0.0</td><td>0.0</td><td>112.0</td><td>66.0</td><td>0.0</td><td>0.0</td><td>0.0</td><td>&hellip;</td><td>144.0</td><td>0.0</td><td>0.0</td><td>0.0</td><td>0.0</td><td>0.0</td><td>0.0</td><td>0.0</td><td>0.0</td><td>14476.0</td><td>11112.0</td><td>2646.0</td><td>0.0</td><td>0.0</td><td>48386.0</td><td>8346.0</td><td>189280.0</td><td>31008.0</td><td>0.0</td><td>0.0</td><td>0.0</td><td>0.0</td><td>655900.0</td><td>759.1</td><td>838.0</td><td>264592.0</td><td>349962.0</td><td>237850.0</td><td>113784.0</td><td>226356.0</td><td>195248.0</td><td>95594.0</td><td>42966.0</td><td>4278.0</td><td>0.0</td><td>0.0</td><td>0.0</td></tr><tr><td>&quot;75%&quot;</td><td>null</td><td>50068.0</td><td>0.0</td><td>964.0</td><td>432.0</td><td>0.0</td><td>0.0</td><td>0.0</td><td>0.0</td><td>0.0</td><td>0.0</td><td>52246.0</td><td>943610.0</td><td>1.908936e6</td><td>598450.0</td><td>27518.0</td><td>388.0</td><td>1.640892e6</td><td>0.0</td><td>0.0</td><td>0.0</td><td>1318.0</td><td>2532.0</td><td>3.194684e6</td><td>2.741424e6</td><td>740532.0</td><td>385616.0</td><td>0.0</td><td>0.0</td><td>0.0</td><td>0.0</td><td>654.0</td><td>264.0</td><td>0.0</td><td>0.0</td><td>0.0</td><td>&hellip;</td><td>298.0</td><td>0.0</td><td>0.0</td><td>0.0</td><td>0.0</td><td>0.0</td><td>0.0</td><td>0.0</td><td>0.0</td><td>27924.0</td><td>38214.0</td><td>8432.0</td><td>0.0</td><td>0.0</td><td>100422.0</td><td>17834.0</td><td>3.46674e6</td><td>534682.0</td><td>8618.0</td><td>36.0</td><td>0.0</td><td>0.0</td><td>4.11414e6</td><td>1388.88</td><td>1522.0</td><td>586188.0</td><td>679150.0</td><td>447012.0</td><td>222286.0</td><td>474868.0</td><td>410328.0</td><td>279192.0</td><td>170608.0</td><td>143230.0</td><td>2018.0</td><td>0.0</td><td>0.0</td></tr><tr><td>&quot;max&quot;</td><td>&quot;pos&quot;</td><td>2.746564e6</td><td>100.0</td><td>2.1307e9</td><td>8.5843e9</td><td>21050.0</td><td>20070.0</td><td>3.376892e6</td><td>4.109372e6</td><td>1.0552856e7</td><td>2.90473e7</td><td>5.3962932e7</td><td>7.1327916e7</td><td>9.4020666e7</td><td>6.3346754e7</td><td>1.6926584e7</td><td>1.8336298e7</td><td>7.4247318e7</td><td>1.6512852e7</td><td>5.62934e6</td><td>1.0444924e7</td><td>3.4762578e7</td><td>5.5903508e7</td><td>1.4086183e8</td><td>1.22201822e8</td><td>7.7934944e7</td><td>2.5562646e7</td><td>350.0</td><td>1.24619e6</td><td>1.0400504e7</td><td>2.626676e6</td><td>794458.0</td><td>116652.0</td><td>5.0553892e7</td><td>8.0525378e7</td><td>2.8474838e7</td><td>&hellip;</td><td>176176.0</td><td>2.161391e7</td><td>2.7064294e7</td><td>1.2470088e8</td><td>2.2987424e7</td><td>203840.0</td><td>5.483574e6</td><td>8.747581e7</td><td>1.8523316e7</td><td>2.924584e6</td><td>1.874542e6</td><td>348118.0</td><td>4.2803e9</td><td>5.0137662e7</td><td>4.970962e6</td><td>640214.0</td><td>3.19054e8</td><td>1.27034534e8</td><td>1.1428842e8</td><td>3.793022e6</td><td>1414.0</td><td>3342.0</td><td>1.3225e9</td><td>106020.22</td><td>79512.0</td><td>6.466015e7</td><td>8.0432426e7</td><td>3.123272e7</td><td>1.6769292e7</td><td>2.7477576e7</td><td>5.7435236e7</td><td>3.1607814e7</td><td>3.7278556e7</td><td>1.9267396e7</td><td>3.810078e6</td><td>362.0</td><td>1146.0</td></tr></tbody></table></div>"
      ]
     },
     "execution_count": 7,
     "metadata": {},
     "output_type": "execute_result"
    }
   ],
   "execution_count": 7
  },
  {
   "metadata": {
    "ExecuteTime": {
     "end_time": "2025-01-02T12:29:41.740725Z",
     "start_time": "2025-01-02T12:29:41.736152Z"
    }
   },
   "cell_type": "code",
   "source": "full_data = d.clone()",
   "id": "aa107ffc57f7d3bb",
   "outputs": [],
   "execution_count": 9
  },
  {
   "metadata": {
    "ExecuteTime": {
     "end_time": "2025-01-02T12:29:48.802098Z",
     "start_time": "2025-01-02T12:29:48.790232Z"
    }
   },
   "cell_type": "code",
   "source": "full_data.head(3)",
   "id": "e33c8f636ab8c396",
   "outputs": [
    {
     "data": {
      "text/plain": [
       "shape: (3, 171)\n",
       "┌───────┬────────┬────────┬────────┬───┬────────┬────────┬────────┬────────┐\n",
       "│ class ┆ aa_000 ┆ ab_000 ┆ ac_000 ┆ … ┆ ee_008 ┆ ee_009 ┆ ef_000 ┆ eg_000 │\n",
       "│ ---   ┆ ---    ┆ ---    ┆ ---    ┆   ┆ ---    ┆ ---    ┆ ---    ┆ ---    │\n",
       "│ str   ┆ i64    ┆ i64    ┆ i64    ┆   ┆ i64    ┆ i64    ┆ i64    ┆ i64    │\n",
       "╞═══════╪════════╪════════╪════════╪═══╪════════╪════════╪════════╪════════╡\n",
       "│ pos   ┆ 153204 ┆ 0      ┆ 182    ┆ … ┆ 0      ┆ 0      ┆ 0      ┆ 0      │\n",
       "│ pos   ┆ 453236 ┆ null   ┆ 2926   ┆ … ┆ 493800 ┆ 6914   ┆ 0      ┆ 0      │\n",
       "│ pos   ┆ 72504  ┆ null   ┆ 1594   ┆ … ┆ 3742   ┆ 0      ┆ 0      ┆ 0      │\n",
       "└───────┴────────┴────────┴────────┴───┴────────┴────────┴────────┴────────┘"
      ],
      "text/html": [
       "<div><style>\n",
       ".dataframe > thead > tr,\n",
       ".dataframe > tbody > tr {\n",
       "  text-align: right;\n",
       "  white-space: pre-wrap;\n",
       "}\n",
       "</style>\n",
       "<small>shape: (3, 171)</small><table border=\"1\" class=\"dataframe\"><thead><tr><th>class</th><th>aa_000</th><th>ab_000</th><th>ac_000</th><th>ad_000</th><th>ae_000</th><th>af_000</th><th>ag_000</th><th>ag_001</th><th>ag_002</th><th>ag_003</th><th>ag_004</th><th>ag_005</th><th>ag_006</th><th>ag_007</th><th>ag_008</th><th>ag_009</th><th>ah_000</th><th>ai_000</th><th>aj_000</th><th>ak_000</th><th>al_000</th><th>am_0</th><th>an_000</th><th>ao_000</th><th>ap_000</th><th>aq_000</th><th>ar_000</th><th>as_000</th><th>at_000</th><th>au_000</th><th>av_000</th><th>ax_000</th><th>ay_000</th><th>ay_001</th><th>ay_002</th><th>ay_003</th><th>&hellip;</th><th>de_000</th><th>df_000</th><th>dg_000</th><th>dh_000</th><th>di_000</th><th>dj_000</th><th>dk_000</th><th>dl_000</th><th>dm_000</th><th>dn_000</th><th>do_000</th><th>dp_000</th><th>dq_000</th><th>dr_000</th><th>ds_000</th><th>dt_000</th><th>du_000</th><th>dv_000</th><th>dx_000</th><th>dy_000</th><th>dz_000</th><th>ea_000</th><th>eb_000</th><th>ec_00</th><th>ed_000</th><th>ee_000</th><th>ee_001</th><th>ee_002</th><th>ee_003</th><th>ee_004</th><th>ee_005</th><th>ee_006</th><th>ee_007</th><th>ee_008</th><th>ee_009</th><th>ef_000</th><th>eg_000</th></tr><tr><td>str</td><td>i64</td><td>i64</td><td>i64</td><td>i64</td><td>i64</td><td>i64</td><td>i64</td><td>i64</td><td>i64</td><td>i64</td><td>i64</td><td>i64</td><td>i64</td><td>i64</td><td>i64</td><td>i64</td><td>i64</td><td>i64</td><td>i64</td><td>i64</td><td>i64</td><td>i64</td><td>i64</td><td>i64</td><td>i64</td><td>i64</td><td>i64</td><td>i64</td><td>i64</td><td>i64</td><td>i64</td><td>i64</td><td>i64</td><td>i64</td><td>i64</td><td>i64</td><td>&hellip;</td><td>i64</td><td>i64</td><td>i64</td><td>i64</td><td>i64</td><td>i64</td><td>i64</td><td>i64</td><td>i64</td><td>i64</td><td>i64</td><td>i64</td><td>i64</td><td>i64</td><td>i64</td><td>i64</td><td>i64</td><td>i64</td><td>i64</td><td>i64</td><td>i64</td><td>i64</td><td>i64</td><td>f64</td><td>i64</td><td>i64</td><td>i64</td><td>i64</td><td>i64</td><td>i64</td><td>i64</td><td>i64</td><td>i64</td><td>i64</td><td>i64</td><td>i64</td><td>i64</td></tr></thead><tbody><tr><td>&quot;pos&quot;</td><td>153204</td><td>0</td><td>182</td><td>null</td><td>0</td><td>0</td><td>0</td><td>0</td><td>0</td><td>11804</td><td>684444</td><td>326536</td><td>31586</td><td>0</td><td>0</td><td>0</td><td>2658638</td><td>14346</td><td>0</td><td>0</td><td>29384</td><td>46356</td><td>5566182</td><td>4426834</td><td>1571480</td><td>1120644</td><td>2</td><td>0</td><td>0</td><td>0</td><td>1368</td><td>862</td><td>0</td><td>0</td><td>0</td><td>0</td><td>&hellip;</td><td>218</td><td>0</td><td>0</td><td>55760</td><td>1433920</td><td>0</td><td>0</td><td>0</td><td>0</td><td>51558</td><td>0</td><td>0</td><td>0</td><td>0</td><td>0</td><td>0</td><td>0</td><td>0</td><td>0</td><td>0</td><td>0</td><td>0</td><td>0</td><td>1.9</td><td>166</td><td>512878</td><td>293880</td><td>129862</td><td>26872</td><td>34044</td><td>22472</td><td>34362</td><td>0</td><td>0</td><td>0</td><td>0</td><td>0</td></tr><tr><td>&quot;pos&quot;</td><td>453236</td><td>null</td><td>2926</td><td>null</td><td>0</td><td>0</td><td>0</td><td>0</td><td>222</td><td>323436</td><td>2999280</td><td>20657518</td><td>12530224</td><td>913700</td><td>12670</td><td>0</td><td>18489312</td><td>19038</td><td>0</td><td>null</td><td>117902</td><td>203782</td><td>32633282</td><td>28658284</td><td>5348896</td><td>3667892</td><td>0</td><td>0</td><td>0</td><td>0</td><td>24514</td><td>1858</td><td>2273870</td><td>2608460</td><td>1424956</td><td>1607946</td><td>&hellip;</td><td>2442</td><td>0</td><td>0</td><td>0</td><td>0</td><td>0</td><td>0</td><td>0</td><td>0</td><td>260830</td><td>169964</td><td>26740</td><td>73289586</td><td>16623244</td><td>1056682</td><td>155406</td><td>93686740</td><td>28423762</td><td>7966</td><td>382610</td><td>0</td><td>0</td><td>432739640</td><td>null</td><td>null</td><td>4079752</td><td>13176956</td><td>7908038</td><td>3026002</td><td>5025350</td><td>2025766</td><td>1160638</td><td>533834</td><td>493800</td><td>6914</td><td>0</td><td>0</td></tr><tr><td>&quot;pos&quot;</td><td>72504</td><td>null</td><td>1594</td><td>1052</td><td>0</td><td>0</td><td>0</td><td>244</td><td>178226</td><td>1249396</td><td>3813464</td><td>4876588</td><td>1202196</td><td>80186</td><td>5892</td><td>1154</td><td>null</td><td>null</td><td>null</td><td>null</td><td>null</td><td>null</td><td>null</td><td>null</td><td>null</td><td>null</td><td>0</td><td>null</td><td>null</td><td>null</td><td>6488</td><td>1414</td><td>0</td><td>0</td><td>0</td><td>0</td><td>&hellip;</td><td>4982</td><td>0</td><td>0</td><td>0</td><td>0</td><td>0</td><td>0</td><td>0</td><td>0</td><td>null</td><td>42400</td><td>7362</td><td>0</td><td>0</td><td>339296</td><td>53004</td><td>88760</td><td>10772</td><td>0</td><td>0</td><td>0</td><td>0</td><td>1550150</td><td>2365.36</td><td>2720</td><td>5935440</td><td>2161030</td><td>1432098</td><td>372252</td><td>527514</td><td>358274</td><td>332818</td><td>284178</td><td>3742</td><td>0</td><td>0</td><td>0</td></tr></tbody></table></div>"
      ]
     },
     "execution_count": 10,
     "metadata": {},
     "output_type": "execute_result"
    }
   ],
   "execution_count": 10
  },
  {
   "metadata": {
    "ExecuteTime": {
     "end_time": "2025-01-02T12:30:38.475124Z",
     "start_time": "2025-01-02T12:30:38.462962Z"
    }
   },
   "cell_type": "code",
   "source": "full_data['class'].value_counts()",
   "id": "892e4fc0e753be73",
   "outputs": [
    {
     "data": {
      "text/plain": [
       "shape: (2, 2)\n",
       "┌───────┬───────┐\n",
       "│ class ┆ count │\n",
       "│ ---   ┆ ---   │\n",
       "│ str   ┆ u32   │\n",
       "╞═══════╪═══════╡\n",
       "│ pos   ┆ 1000  │\n",
       "│ neg   ┆ 35188 │\n",
       "└───────┴───────┘"
      ],
      "text/html": [
       "<div><style>\n",
       ".dataframe > thead > tr,\n",
       ".dataframe > tbody > tr {\n",
       "  text-align: right;\n",
       "  white-space: pre-wrap;\n",
       "}\n",
       "</style>\n",
       "<small>shape: (2, 2)</small><table border=\"1\" class=\"dataframe\"><thead><tr><th>class</th><th>count</th></tr><tr><td>str</td><td>u32</td></tr></thead><tbody><tr><td>&quot;pos&quot;</td><td>1000</td></tr><tr><td>&quot;neg&quot;</td><td>35188</td></tr></tbody></table></div>"
      ]
     },
     "execution_count": 12,
     "metadata": {},
     "output_type": "execute_result"
    }
   ],
   "execution_count": 12
  },
  {
   "metadata": {
    "ExecuteTime": {
     "end_time": "2025-01-02T12:39:08.535647Z",
     "start_time": "2025-01-02T12:39:08.528007Z"
    }
   },
   "cell_type": "code",
   "source": [
    "# train and test split\n",
    "X = full_data.drop(['class'])\n",
    "y = full_data['class']"
   ],
   "id": "4e90f5c4cebac304",
   "outputs": [],
   "execution_count": 14
  },
  {
   "metadata": {
    "ExecuteTime": {
     "end_time": "2025-01-02T12:40:24.838552Z",
     "start_time": "2025-01-02T12:40:24.817508Z"
    }
   },
   "cell_type": "code",
   "source": "X",
   "id": "b459c1927f972464",
   "outputs": [
    {
     "data": {
      "text/plain": [
       "shape: (36_188, 170)\n",
       "┌────────┬────────┬────────────┬────────┬───┬────────┬────────┬────────┬────────┐\n",
       "│ aa_000 ┆ ab_000 ┆ ac_000     ┆ ad_000 ┆ … ┆ ee_008 ┆ ee_009 ┆ ef_000 ┆ eg_000 │\n",
       "│ ---    ┆ ---    ┆ ---        ┆ ---    ┆   ┆ ---    ┆ ---    ┆ ---    ┆ ---    │\n",
       "│ i64    ┆ i64    ┆ i64        ┆ i64    ┆   ┆ i64    ┆ i64    ┆ i64    ┆ i64    │\n",
       "╞════════╪════════╪════════════╪════════╪═══╪════════╪════════╪════════╪════════╡\n",
       "│ 153204 ┆ 0      ┆ 182        ┆ null   ┆ … ┆ 0      ┆ 0      ┆ 0      ┆ 0      │\n",
       "│ 453236 ┆ null   ┆ 2926       ┆ null   ┆ … ┆ 493800 ┆ 6914   ┆ 0      ┆ 0      │\n",
       "│ 72504  ┆ null   ┆ 1594       ┆ 1052   ┆ … ┆ 3742   ┆ 0      ┆ 0      ┆ 0      │\n",
       "│ 762958 ┆ null   ┆ null       ┆ null   ┆ … ┆ null   ┆ null   ┆ null   ┆ null   │\n",
       "│ 695994 ┆ null   ┆ null       ┆ null   ┆ … ┆ 0      ┆ 0      ┆ null   ┆ null   │\n",
       "│ …      ┆ …      ┆ …          ┆ …      ┆ … ┆ …      ┆ …      ┆ …      ┆ …      │\n",
       "│ 153002 ┆ null   ┆ 664        ┆ 186    ┆ … ┆ 898642 ┆ 28588  ┆ 0      ┆ 0      │\n",
       "│ 2286   ┆ null   ┆ 2130706538 ┆ 224    ┆ … ┆ 0      ┆ 0      ┆ 0      ┆ 0      │\n",
       "│ 112    ┆ 0      ┆ 2130706432 ┆ 18     ┆ … ┆ 0      ┆ 0      ┆ 0      ┆ 0      │\n",
       "│ 80292  ┆ null   ┆ 2130706432 ┆ 494    ┆ … ┆ 802280 ┆ 388422 ┆ 0      ┆ 0      │\n",
       "│ 40222  ┆ null   ┆ 698        ┆ 628    ┆ … ┆ 170384 ┆ 158    ┆ 0      ┆ 0      │\n",
       "└────────┴────────┴────────────┴────────┴───┴────────┴────────┴────────┴────────┘"
      ],
      "text/html": [
       "<div><style>\n",
       ".dataframe > thead > tr,\n",
       ".dataframe > tbody > tr {\n",
       "  text-align: right;\n",
       "  white-space: pre-wrap;\n",
       "}\n",
       "</style>\n",
       "<small>shape: (36_188, 170)</small><table border=\"1\" class=\"dataframe\"><thead><tr><th>aa_000</th><th>ab_000</th><th>ac_000</th><th>ad_000</th><th>ae_000</th><th>af_000</th><th>ag_000</th><th>ag_001</th><th>ag_002</th><th>ag_003</th><th>ag_004</th><th>ag_005</th><th>ag_006</th><th>ag_007</th><th>ag_008</th><th>ag_009</th><th>ah_000</th><th>ai_000</th><th>aj_000</th><th>ak_000</th><th>al_000</th><th>am_0</th><th>an_000</th><th>ao_000</th><th>ap_000</th><th>aq_000</th><th>ar_000</th><th>as_000</th><th>at_000</th><th>au_000</th><th>av_000</th><th>ax_000</th><th>ay_000</th><th>ay_001</th><th>ay_002</th><th>ay_003</th><th>ay_004</th><th>&hellip;</th><th>de_000</th><th>df_000</th><th>dg_000</th><th>dh_000</th><th>di_000</th><th>dj_000</th><th>dk_000</th><th>dl_000</th><th>dm_000</th><th>dn_000</th><th>do_000</th><th>dp_000</th><th>dq_000</th><th>dr_000</th><th>ds_000</th><th>dt_000</th><th>du_000</th><th>dv_000</th><th>dx_000</th><th>dy_000</th><th>dz_000</th><th>ea_000</th><th>eb_000</th><th>ec_00</th><th>ed_000</th><th>ee_000</th><th>ee_001</th><th>ee_002</th><th>ee_003</th><th>ee_004</th><th>ee_005</th><th>ee_006</th><th>ee_007</th><th>ee_008</th><th>ee_009</th><th>ef_000</th><th>eg_000</th></tr><tr><td>i64</td><td>i64</td><td>i64</td><td>i64</td><td>i64</td><td>i64</td><td>i64</td><td>i64</td><td>i64</td><td>i64</td><td>i64</td><td>i64</td><td>i64</td><td>i64</td><td>i64</td><td>i64</td><td>i64</td><td>i64</td><td>i64</td><td>i64</td><td>i64</td><td>i64</td><td>i64</td><td>i64</td><td>i64</td><td>i64</td><td>i64</td><td>i64</td><td>i64</td><td>i64</td><td>i64</td><td>i64</td><td>i64</td><td>i64</td><td>i64</td><td>i64</td><td>i64</td><td>&hellip;</td><td>i64</td><td>i64</td><td>i64</td><td>i64</td><td>i64</td><td>i64</td><td>i64</td><td>i64</td><td>i64</td><td>i64</td><td>i64</td><td>i64</td><td>i64</td><td>i64</td><td>i64</td><td>i64</td><td>i64</td><td>i64</td><td>i64</td><td>i64</td><td>i64</td><td>i64</td><td>i64</td><td>f64</td><td>i64</td><td>i64</td><td>i64</td><td>i64</td><td>i64</td><td>i64</td><td>i64</td><td>i64</td><td>i64</td><td>i64</td><td>i64</td><td>i64</td><td>i64</td></tr></thead><tbody><tr><td>153204</td><td>0</td><td>182</td><td>null</td><td>0</td><td>0</td><td>0</td><td>0</td><td>0</td><td>11804</td><td>684444</td><td>326536</td><td>31586</td><td>0</td><td>0</td><td>0</td><td>2658638</td><td>14346</td><td>0</td><td>0</td><td>29384</td><td>46356</td><td>5566182</td><td>4426834</td><td>1571480</td><td>1120644</td><td>2</td><td>0</td><td>0</td><td>0</td><td>1368</td><td>862</td><td>0</td><td>0</td><td>0</td><td>0</td><td>0</td><td>&hellip;</td><td>218</td><td>0</td><td>0</td><td>55760</td><td>1433920</td><td>0</td><td>0</td><td>0</td><td>0</td><td>51558</td><td>0</td><td>0</td><td>0</td><td>0</td><td>0</td><td>0</td><td>0</td><td>0</td><td>0</td><td>0</td><td>0</td><td>0</td><td>0</td><td>1.9</td><td>166</td><td>512878</td><td>293880</td><td>129862</td><td>26872</td><td>34044</td><td>22472</td><td>34362</td><td>0</td><td>0</td><td>0</td><td>0</td><td>0</td></tr><tr><td>453236</td><td>null</td><td>2926</td><td>null</td><td>0</td><td>0</td><td>0</td><td>0</td><td>222</td><td>323436</td><td>2999280</td><td>20657518</td><td>12530224</td><td>913700</td><td>12670</td><td>0</td><td>18489312</td><td>19038</td><td>0</td><td>null</td><td>117902</td><td>203782</td><td>32633282</td><td>28658284</td><td>5348896</td><td>3667892</td><td>0</td><td>0</td><td>0</td><td>0</td><td>24514</td><td>1858</td><td>2273870</td><td>2608460</td><td>1424956</td><td>1607946</td><td>1409344</td><td>&hellip;</td><td>2442</td><td>0</td><td>0</td><td>0</td><td>0</td><td>0</td><td>0</td><td>0</td><td>0</td><td>260830</td><td>169964</td><td>26740</td><td>73289586</td><td>16623244</td><td>1056682</td><td>155406</td><td>93686740</td><td>28423762</td><td>7966</td><td>382610</td><td>0</td><td>0</td><td>432739640</td><td>null</td><td>null</td><td>4079752</td><td>13176956</td><td>7908038</td><td>3026002</td><td>5025350</td><td>2025766</td><td>1160638</td><td>533834</td><td>493800</td><td>6914</td><td>0</td><td>0</td></tr><tr><td>72504</td><td>null</td><td>1594</td><td>1052</td><td>0</td><td>0</td><td>0</td><td>244</td><td>178226</td><td>1249396</td><td>3813464</td><td>4876588</td><td>1202196</td><td>80186</td><td>5892</td><td>1154</td><td>null</td><td>null</td><td>null</td><td>null</td><td>null</td><td>null</td><td>null</td><td>null</td><td>null</td><td>null</td><td>0</td><td>null</td><td>null</td><td>null</td><td>6488</td><td>1414</td><td>0</td><td>0</td><td>0</td><td>0</td><td>0</td><td>&hellip;</td><td>4982</td><td>0</td><td>0</td><td>0</td><td>0</td><td>0</td><td>0</td><td>0</td><td>0</td><td>null</td><td>42400</td><td>7362</td><td>0</td><td>0</td><td>339296</td><td>53004</td><td>88760</td><td>10772</td><td>0</td><td>0</td><td>0</td><td>0</td><td>1550150</td><td>2365.36</td><td>2720</td><td>5935440</td><td>2161030</td><td>1432098</td><td>372252</td><td>527514</td><td>358274</td><td>332818</td><td>284178</td><td>3742</td><td>0</td><td>0</td><td>0</td></tr><tr><td>762958</td><td>null</td><td>null</td><td>null</td><td>null</td><td>null</td><td>776</td><td>281128</td><td>2186308</td><td>8123016</td><td>18022646</td><td>17301098</td><td>6753568</td><td>649400</td><td>33662</td><td>0</td><td>14649948</td><td>0</td><td>0</td><td>null</td><td>5043850</td><td>7995294</td><td>30556606</td><td>30750228</td><td>11311258</td><td>4023056</td><td>null</td><td>0</td><td>0</td><td>0</td><td>null</td><td>null</td><td>null</td><td>null</td><td>null</td><td>null</td><td>null</td><td>&hellip;</td><td>null</td><td>null</td><td>null</td><td>null</td><td>null</td><td>null</td><td>null</td><td>null</td><td>null</td><td>382508</td><td>null</td><td>null</td><td>null</td><td>null</td><td>null</td><td>null</td><td>null</td><td>null</td><td>null</td><td>null</td><td>null</td><td>null</td><td>null</td><td>null</td><td>null</td><td>null</td><td>null</td><td>null</td><td>null</td><td>null</td><td>null</td><td>null</td><td>null</td><td>null</td><td>null</td><td>null</td><td>null</td></tr><tr><td>695994</td><td>null</td><td>null</td><td>null</td><td>null</td><td>null</td><td>0</td><td>0</td><td>0</td><td>55620</td><td>1190014</td><td>2406704</td><td>2654968</td><td>190640</td><td>6104</td><td>0</td><td>30746644</td><td>154572</td><td>402</td><td>null</td><td>248428</td><td>488246</td><td>64433246</td><td>53994294</td><td>20596998</td><td>10304200</td><td>null</td><td>0</td><td>185644</td><td>0</td><td>null</td><td>null</td><td>1769754</td><td>740312</td><td>476838</td><td>174168</td><td>133332</td><td>&hellip;</td><td>null</td><td>null</td><td>null</td><td>null</td><td>null</td><td>null</td><td>null</td><td>null</td><td>null</td><td>null</td><td>null</td><td>null</td><td>null</td><td>null</td><td>null</td><td>null</td><td>null</td><td>null</td><td>null</td><td>null</td><td>null</td><td>null</td><td>null</td><td>0.1</td><td>0</td><td>1073478</td><td>3141688</td><td>1397742</td><td>495544</td><td>361646</td><td>28610</td><td>5130</td><td>212</td><td>0</td><td>0</td><td>null</td><td>null</td></tr><tr><td>&hellip;</td><td>&hellip;</td><td>&hellip;</td><td>&hellip;</td><td>&hellip;</td><td>&hellip;</td><td>&hellip;</td><td>&hellip;</td><td>&hellip;</td><td>&hellip;</td><td>&hellip;</td><td>&hellip;</td><td>&hellip;</td><td>&hellip;</td><td>&hellip;</td><td>&hellip;</td><td>&hellip;</td><td>&hellip;</td><td>&hellip;</td><td>&hellip;</td><td>&hellip;</td><td>&hellip;</td><td>&hellip;</td><td>&hellip;</td><td>&hellip;</td><td>&hellip;</td><td>&hellip;</td><td>&hellip;</td><td>&hellip;</td><td>&hellip;</td><td>&hellip;</td><td>&hellip;</td><td>&hellip;</td><td>&hellip;</td><td>&hellip;</td><td>&hellip;</td><td>&hellip;</td><td>&hellip;</td><td>&hellip;</td><td>&hellip;</td><td>&hellip;</td><td>&hellip;</td><td>&hellip;</td><td>&hellip;</td><td>&hellip;</td><td>&hellip;</td><td>&hellip;</td><td>&hellip;</td><td>&hellip;</td><td>&hellip;</td><td>&hellip;</td><td>&hellip;</td><td>&hellip;</td><td>&hellip;</td><td>&hellip;</td><td>&hellip;</td><td>&hellip;</td><td>&hellip;</td><td>&hellip;</td><td>&hellip;</td><td>&hellip;</td><td>&hellip;</td><td>&hellip;</td><td>&hellip;</td><td>&hellip;</td><td>&hellip;</td><td>&hellip;</td><td>&hellip;</td><td>&hellip;</td><td>&hellip;</td><td>&hellip;</td><td>&hellip;</td><td>&hellip;</td><td>&hellip;</td><td>&hellip;</td></tr><tr><td>153002</td><td>null</td><td>664</td><td>186</td><td>0</td><td>0</td><td>0</td><td>0</td><td>0</td><td>2564</td><td>59100</td><td>1603216</td><td>6015982</td><td>1968266</td><td>164972</td><td>12560</td><td>4880368</td><td>0</td><td>280</td><td>0</td><td>1224</td><td>2114</td><td>8913782</td><td>7998174</td><td>1929126</td><td>776370</td><td>2</td><td>0</td><td>0</td><td>0</td><td>3328</td><td>1080</td><td>0</td><td>0</td><td>0</td><td>0</td><td>0</td><td>&hellip;</td><td>1600</td><td>0</td><td>0</td><td>0</td><td>0</td><td>0</td><td>0</td><td>0</td><td>0</td><td>62846</td><td>137050</td><td>27546</td><td>0</td><td>0</td><td>265640</td><td>54496</td><td>470800</td><td>293652</td><td>0</td><td>0</td><td>0</td><td>0</td><td>80125300</td><td>2912.04</td><td>2858</td><td>1608808</td><td>1479066</td><td>998500</td><td>566884</td><td>1290398</td><td>1218244</td><td>1019768</td><td>717762</td><td>898642</td><td>28588</td><td>0</td><td>0</td></tr><tr><td>2286</td><td>null</td><td>2130706538</td><td>224</td><td>0</td><td>0</td><td>0</td><td>0</td><td>0</td><td>0</td><td>104</td><td>99186</td><td>36564</td><td>128</td><td>0</td><td>0</td><td>56982</td><td>0</td><td>0</td><td>0</td><td>0</td><td>0</td><td>123604</td><td>108768</td><td>24020</td><td>11622</td><td>0</td><td>0</td><td>0</td><td>0</td><td>192</td><td>56</td><td>0</td><td>0</td><td>0</td><td>0</td><td>0</td><td>&hellip;</td><td>56</td><td>0</td><td>0</td><td>0</td><td>0</td><td>0</td><td>0</td><td>0</td><td>0</td><td>1066</td><td>808</td><td>600</td><td>0</td><td>0</td><td>2450</td><td>510</td><td>823720</td><td>82346</td><td>16440</td><td>20</td><td>0</td><td>0</td><td>1285980</td><td>80.4</td><td>82</td><td>13934</td><td>15024</td><td>10578</td><td>6760</td><td>21126</td><td>68424</td><td>136</td><td>0</td><td>0</td><td>0</td><td>0</td><td>0</td></tr><tr><td>112</td><td>0</td><td>2130706432</td><td>18</td><td>0</td><td>0</td><td>0</td><td>0</td><td>0</td><td>0</td><td>28</td><td>11592</td><td>11538</td><td>0</td><td>0</td><td>0</td><td>8784</td><td>0</td><td>0</td><td>0</td><td>0</td><td>0</td><td>29698</td><td>23762</td><td>13970</td><td>874</td><td>0</td><td>0</td><td>0</td><td>0</td><td>36</td><td>20</td><td>0</td><td>0</td><td>0</td><td>0</td><td>0</td><td>&hellip;</td><td>74</td><td>0</td><td>7042</td><td>0</td><td>0</td><td>0</td><td>0</td><td>0</td><td>0</td><td>622</td><td>0</td><td>0</td><td>4544</td><td>2398</td><td>162</td><td>58</td><td>7920</td><td>784</td><td>9112</td><td>0</td><td>0</td><td>0</td><td>0</td><td>2.76</td><td>134</td><td>15876</td><td>2740</td><td>792</td><td>386</td><td>452</td><td>144</td><td>146</td><td>2622</td><td>0</td><td>0</td><td>0</td><td>0</td></tr><tr><td>80292</td><td>null</td><td>2130706432</td><td>494</td><td>0</td><td>0</td><td>0</td><td>0</td><td>0</td><td>0</td><td>330</td><td>202498</td><td>3251010</td><td>2061456</td><td>360436</td><td>59754</td><td>2634394</td><td>0</td><td>0</td><td>0</td><td>0</td><td>0</td><td>4543410</td><td>3227856</td><td>1615634</td><td>1214970</td><td>0</td><td>0</td><td>57300</td><td>0</td><td>2124</td><td>1090</td><td>0</td><td>0</td><td>0</td><td>0</td><td>0</td><td>&hellip;</td><td>284</td><td>0</td><td>0</td><td>190</td><td>106152</td><td>0</td><td>0</td><td>0</td><td>0</td><td>79230</td><td>37162</td><td>18388</td><td>0</td><td>0</td><td>166748</td><td>40564</td><td>25232340</td><td>5648346</td><td>0</td><td>0</td><td>0</td><td>0</td><td>39881280</td><td>1659.7</td><td>1908</td><td>1180714</td><td>1709450</td><td>699352</td><td>222654</td><td>347378</td><td>225724</td><td>194440</td><td>165070</td><td>802280</td><td>388422</td><td>0</td><td>0</td></tr><tr><td>40222</td><td>null</td><td>698</td><td>628</td><td>0</td><td>0</td><td>0</td><td>0</td><td>0</td><td>0</td><td>1226</td><td>46284</td><td>1901140</td><td>855376</td><td>61744</td><td>6318</td><td>1235850</td><td>1926</td><td>474</td><td>0</td><td>0</td><td>0</td><td>2502090</td><td>2109168</td><td>573660</td><td>334864</td><td>0</td><td>0</td><td>0</td><td>0</td><td>2260</td><td>266</td><td>0</td><td>0</td><td>0</td><td>0</td><td>0</td><td>&hellip;</td><td>214</td><td>0</td><td>0</td><td>0</td><td>0</td><td>0</td><td>0</td><td>0</td><td>0</td><td>21454</td><td>25034</td><td>4644</td><td>0</td><td>0</td><td>79872</td><td>14390</td><td>152740</td><td>17080</td><td>0</td><td>0</td><td>0</td><td>0</td><td>39221060</td><td>1035.22</td><td>1256</td><td>409798</td><td>686416</td><td>440066</td><td>183200</td><td>344546</td><td>254068</td><td>225148</td><td>158304</td><td>170384</td><td>158</td><td>0</td><td>0</td></tr></tbody></table></div>"
      ]
     },
     "execution_count": 17,
     "metadata": {},
     "output_type": "execute_result"
    }
   ],
   "execution_count": 17
  },
  {
   "metadata": {
    "ExecuteTime": {
     "end_time": "2025-01-02T12:40:45.016128Z",
     "start_time": "2025-01-02T12:40:45.010592Z"
    }
   },
   "cell_type": "code",
   "source": "y",
   "id": "92610058e8823bbe",
   "outputs": [
    {
     "data": {
      "text/plain": [
       "shape: (36_188,)\n",
       "Series: 'class' [str]\n",
       "[\n",
       "\t\"pos\"\n",
       "\t\"pos\"\n",
       "\t\"pos\"\n",
       "\t\"pos\"\n",
       "\t\"pos\"\n",
       "\t…\n",
       "\t\"neg\"\n",
       "\t\"neg\"\n",
       "\t\"neg\"\n",
       "\t\"neg\"\n",
       "\t\"neg\"\n",
       "]"
      ],
      "text/html": [
       "<div><style>\n",
       ".dataframe > thead > tr,\n",
       ".dataframe > tbody > tr {\n",
       "  text-align: right;\n",
       "  white-space: pre-wrap;\n",
       "}\n",
       "</style>\n",
       "<small>shape: (36_188,)</small><table border=\"1\" class=\"dataframe\"><thead><tr><th>class</th></tr><tr><td>str</td></tr></thead><tbody><tr><td>&quot;pos&quot;</td></tr><tr><td>&quot;pos&quot;</td></tr><tr><td>&quot;pos&quot;</td></tr><tr><td>&quot;pos&quot;</td></tr><tr><td>&quot;pos&quot;</td></tr><tr><td>&hellip;</td></tr><tr><td>&quot;neg&quot;</td></tr><tr><td>&quot;neg&quot;</td></tr><tr><td>&quot;neg&quot;</td></tr><tr><td>&quot;neg&quot;</td></tr><tr><td>&quot;neg&quot;</td></tr></tbody></table></div>"
      ]
     },
     "execution_count": 19,
     "metadata": {},
     "output_type": "execute_result"
    }
   ],
   "execution_count": 19
  },
  {
   "metadata": {
    "ExecuteTime": {
     "end_time": "2025-01-02T12:41:03.483093Z",
     "start_time": "2025-01-02T12:41:02.381176Z"
    }
   },
   "cell_type": "code",
   "source": [
    "from sklearn.model_selection import train_test_split\n",
    "\n",
    "X_train, X_test, y_train, y_test = train_test_split(X, y, test_size=0.2, stratify=y, random_state=42)"
   ],
   "id": "d06603cd40512607",
   "outputs": [],
   "execution_count": 20
  },
  {
   "metadata": {
    "ExecuteTime": {
     "end_time": "2025-01-02T15:13:49.097769Z",
     "start_time": "2025-01-02T15:13:49.092546Z"
    }
   },
   "cell_type": "code",
   "source": "X_train.shape",
   "id": "50979ec0f03121a5",
   "outputs": [
    {
     "data": {
      "text/plain": [
       "(28950, 170)"
      ]
     },
     "execution_count": 21,
     "metadata": {},
     "output_type": "execute_result"
    }
   ],
   "execution_count": 21
  },
  {
   "metadata": {
    "ExecuteTime": {
     "end_time": "2025-01-02T15:15:11.519520Z",
     "start_time": "2025-01-02T15:15:11.508259Z"
    }
   },
   "cell_type": "code",
   "source": "y_train.value_counts(), y_test.value_counts()",
   "id": "f9f58a60c406db0c",
   "outputs": [
    {
     "data": {
      "text/plain": [
       "(shape: (2, 2)\n",
       " ┌───────┬───────┐\n",
       " │ class ┆ count │\n",
       " │ ---   ┆ ---   │\n",
       " │ str   ┆ u32   │\n",
       " ╞═══════╪═══════╡\n",
       " │ pos   ┆ 800   │\n",
       " │ neg   ┆ 28150 │\n",
       " └───────┴───────┘,\n",
       " shape: (2, 2)\n",
       " ┌───────┬───────┐\n",
       " │ class ┆ count │\n",
       " │ ---   ┆ ---   │\n",
       " │ str   ┆ u32   │\n",
       " ╞═══════╪═══════╡\n",
       " │ pos   ┆ 200   │\n",
       " │ neg   ┆ 7038  │\n",
       " └───────┴───────┘)"
      ]
     },
     "execution_count": 23,
     "metadata": {},
     "output_type": "execute_result"
    }
   ],
   "execution_count": 23
  },
  {
   "metadata": {
    "ExecuteTime": {
     "end_time": "2025-01-02T15:19:23.145291Z",
     "start_time": "2025-01-02T15:19:23.110873Z"
    }
   },
   "cell_type": "code",
   "source": "X_train.is_duplicated().sum()",
   "id": "8c700740f56d7fc",
   "outputs": [
    {
     "data": {
      "text/plain": [
       "0"
      ]
     },
     "execution_count": 27,
     "metadata": {},
     "output_type": "execute_result"
    }
   ],
   "execution_count": 27
  },
  {
   "metadata": {
    "ExecuteTime": {
     "end_time": "2025-01-02T15:40:22.862763Z",
     "start_time": "2025-01-02T15:40:22.845471Z"
    }
   },
   "cell_type": "code",
   "source": [
    "missing_percentage = (X_train.null_count().sum() / len(X_train)) * 100\n",
    "missing_percentage\n"
   ],
   "id": "1c993e7c8bdb9682",
   "outputs": [
    {
     "data": {
      "text/plain": [
       "shape: (1, 170)\n",
       "┌────────┬───────────┬──────────┬───────────┬───┬──────────┬──────────┬──────────┬──────────┐\n",
       "│ aa_000 ┆ ab_000    ┆ ac_000   ┆ ad_000    ┆ … ┆ ee_008   ┆ ee_009   ┆ ef_000   ┆ eg_000   │\n",
       "│ ---    ┆ ---       ┆ ---      ┆ ---       ┆   ┆ ---      ┆ ---      ┆ ---      ┆ ---      │\n",
       "│ f64    ┆ f64       ┆ f64      ┆ f64       ┆   ┆ f64      ┆ f64      ┆ f64      ┆ f64      │\n",
       "╞════════╪═══════════╪══════════╪═══════════╪═══╪══════════╪══════════╪══════════╪══════════╡\n",
       "│ 0.0    ┆ 77.098446 ┆ 6.010363 ┆ 25.271157 ┆ … ┆ 0.998273 ┆ 0.998273 ┆ 4.839378 ┆ 4.835924 │\n",
       "└────────┴───────────┴──────────┴───────────┴───┴──────────┴──────────┴──────────┴──────────┘"
      ],
      "text/html": [
       "<div><style>\n",
       ".dataframe > thead > tr,\n",
       ".dataframe > tbody > tr {\n",
       "  text-align: right;\n",
       "  white-space: pre-wrap;\n",
       "}\n",
       "</style>\n",
       "<small>shape: (1, 170)</small><table border=\"1\" class=\"dataframe\"><thead><tr><th>aa_000</th><th>ab_000</th><th>ac_000</th><th>ad_000</th><th>ae_000</th><th>af_000</th><th>ag_000</th><th>ag_001</th><th>ag_002</th><th>ag_003</th><th>ag_004</th><th>ag_005</th><th>ag_006</th><th>ag_007</th><th>ag_008</th><th>ag_009</th><th>ah_000</th><th>ai_000</th><th>aj_000</th><th>ak_000</th><th>al_000</th><th>am_0</th><th>an_000</th><th>ao_000</th><th>ap_000</th><th>aq_000</th><th>ar_000</th><th>as_000</th><th>at_000</th><th>au_000</th><th>av_000</th><th>ax_000</th><th>ay_000</th><th>ay_001</th><th>ay_002</th><th>ay_003</th><th>ay_004</th><th>&hellip;</th><th>de_000</th><th>df_000</th><th>dg_000</th><th>dh_000</th><th>di_000</th><th>dj_000</th><th>dk_000</th><th>dl_000</th><th>dm_000</th><th>dn_000</th><th>do_000</th><th>dp_000</th><th>dq_000</th><th>dr_000</th><th>ds_000</th><th>dt_000</th><th>du_000</th><th>dv_000</th><th>dx_000</th><th>dy_000</th><th>dz_000</th><th>ea_000</th><th>eb_000</th><th>ec_00</th><th>ed_000</th><th>ee_000</th><th>ee_001</th><th>ee_002</th><th>ee_003</th><th>ee_004</th><th>ee_005</th><th>ee_006</th><th>ee_007</th><th>ee_008</th><th>ee_009</th><th>ef_000</th><th>eg_000</th></tr><tr><td>f64</td><td>f64</td><td>f64</td><td>f64</td><td>f64</td><td>f64</td><td>f64</td><td>f64</td><td>f64</td><td>f64</td><td>f64</td><td>f64</td><td>f64</td><td>f64</td><td>f64</td><td>f64</td><td>f64</td><td>f64</td><td>f64</td><td>f64</td><td>f64</td><td>f64</td><td>f64</td><td>f64</td><td>f64</td><td>f64</td><td>f64</td><td>f64</td><td>f64</td><td>f64</td><td>f64</td><td>f64</td><td>f64</td><td>f64</td><td>f64</td><td>f64</td><td>f64</td><td>&hellip;</td><td>f64</td><td>f64</td><td>f64</td><td>f64</td><td>f64</td><td>f64</td><td>f64</td><td>f64</td><td>f64</td><td>f64</td><td>f64</td><td>f64</td><td>f64</td><td>f64</td><td>f64</td><td>f64</td><td>f64</td><td>f64</td><td>f64</td><td>f64</td><td>f64</td><td>f64</td><td>f64</td><td>f64</td><td>f64</td><td>f64</td><td>f64</td><td>f64</td><td>f64</td><td>f64</td><td>f64</td><td>f64</td><td>f64</td><td>f64</td><td>f64</td><td>f64</td><td>f64</td></tr></thead><tbody><tr><td>0.0</td><td>77.098446</td><td>6.010363</td><td>25.271157</td><td>4.431779</td><td>4.431779</td><td>0.998273</td><td>0.998273</td><td>0.998273</td><td>0.998273</td><td>0.998273</td><td>0.998273</td><td>0.998273</td><td>0.998273</td><td>0.998273</td><td>0.998273</td><td>1.036269</td><td>1.029361</td><td>1.029361</td><td>7.682211</td><td>1.046632</td><td>1.029361</td><td>1.046632</td><td>0.946459</td><td>1.046632</td><td>0.946459</td><td>4.835924</td><td>1.029361</td><td>1.029361</td><td>1.029361</td><td>4.435233</td><td>4.438687</td><td>0.998273</td><td>0.998273</td><td>0.998273</td><td>0.998273</td><td>0.998273</td><td>&hellip;</td><td>4.839378</td><td>7.084629</td><td>7.084629</td><td>7.084629</td><td>7.07772</td><td>7.081174</td><td>7.081174</td><td>7.084629</td><td>7.088083</td><td>1.07772</td><td>4.839378</td><td>4.846287</td><td>4.846287</td><td>4.842832</td><td>4.846287</td><td>4.846287</td><td>4.842832</td><td>4.842832</td><td>4.835924</td><td>4.839378</td><td>4.835924</td><td>4.835924</td><td>7.081174</td><td>16.939551</td><td>15.744387</td><td>0.998273</td><td>0.998273</td><td>0.998273</td><td>0.998273</td><td>0.998273</td><td>0.998273</td><td>0.998273</td><td>0.998273</td><td>0.998273</td><td>0.998273</td><td>4.839378</td><td>4.835924</td></tr></tbody></table></div>"
      ]
     },
     "execution_count": 39,
     "metadata": {},
     "output_type": "execute_result"
    }
   ],
   "execution_count": 39
  },
  {
   "metadata": {},
   "cell_type": "markdown",
   "source": "#### Visualization",
   "id": "7ef3a543dde61dba"
  },
  {
   "metadata": {},
   "cell_type": "code",
   "outputs": [],
   "execution_count": null,
   "source": [
    "from dataprep.eda import create_report\n",
    "create_report(X_train)"
   ],
   "id": "1e262eb0aa100e8c"
  }
 ],
 "metadata": {
  "kernelspec": {
   "display_name": "fault",
   "language": "python",
   "name": "fault"
  },
  "language_info": {
   "codemirror_mode": {
    "name": "ipython",
    "version": 2
   },
   "file_extension": ".py",
   "mimetype": "text/x-python",
   "name": "python",
   "nbconvert_exporter": "python",
   "pygments_lexer": "ipython2",
   "version": "2.7.6"
  }
 },
 "nbformat": 4,
 "nbformat_minor": 5
}
